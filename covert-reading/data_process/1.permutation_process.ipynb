{
 "cells": [
  {
   "cell_type": "code",
   "execution_count": 1,
   "id": "initial_id",
   "metadata": {
    "collapsed": true,
    "ExecuteTime": {
     "end_time": "2023-11-17T05:10:58.775294800Z",
     "start_time": "2023-11-17T05:10:58.534294300Z"
    }
   },
   "outputs": [],
   "source": [
    "from HS_reading import *\n",
    "from collections import defaultdict\n",
    "import tqdm"
   ]
  },
  {
   "cell_type": "code",
   "execution_count": 2,
   "outputs": [],
   "source": [
    "def combine_r_r2(HS_list, clean_data_path,model, task_name=\"covert\",permutation_num = 200):\n",
    "    \"\"\"\"\n",
    "    ex_feature 是个列表，生成里面所有的delta\n",
    "    feature_pool 是feature计算的总体\n",
    "    \"\"\"\n",
    "    for HS in HS_list:\n",
    "        if HS <70 and task_name == \"cue\":\n",
    "            return 0\n",
    "        save_p_path = clean_data_path + \"/TRF/\" + \"HS\" + str(HS) + \"/permutation/\"\n",
    "        save_path = clean_data_path + \"/TRF/\" + \"HS\" + str(HS) + \"/\"\n",
    "        if not os.path.exists(save_p_path):\n",
    "            os.mkdir(save_p_path)\n",
    "\n",
    "        fs = 10\n",
    "        ds_a = -30\n",
    "        ds_p = 30\n",
    "        delays = np.arange(ds_a, ds_p)\n",
    "        r2_channel_permutation = defaultdict(list)\n",
    "        r_channel_permutation = defaultdict(list)\n",
    "        for i in tqdm.trange(permutation_num):\n",
    "    \n",
    "            r2_channel = np.load(save_path + \"HS\" + str(HS) + \"_\" + task_name + \"_\" + str(int(ds_a * fs)) + str(\n",
    "                int(ds_p * fs)) + \"_\" + model + f\"_r2_channel_{i}.npy\", allow_pickle=True).item()\n",
    "            r_channel = np.load(save_path + \"HS\" + str(HS) + \"_\" + task_name + \"_\" + str(int(ds_a * fs)) + str(\n",
    "                int(ds_p * fs)) + \"_\" + model + f\"_corr_channel_{i}.npy\",allow_pickle=True).item()\n",
    "            for key in r2_channel:\n",
    "                r2_channel_permutation[key].append(r2_channel[key])\n",
    "                r_channel_permutation[key].append(r_channel[key])\n",
    "            # r2_channel_permutation[key] = r2_channel\n",
    "            # \n",
    "            # r_channel_permutation{str(i)} = r_channel\n",
    "        \n",
    "        np.save(save_path + \"HS\" + str(HS) + \"_\" + task_name + \"_\" + str(int(ds_a * fs)) + str(\n",
    "                int(ds_p * fs)) + \"_\" + model + f\"_r2_channel_all.npy\", r2_channel_permutation)\n",
    "        np.save(save_path + \"HS\" + str(HS) + \"_\" + task_name + \"_\" + str(int(ds_a * fs)) + str(\n",
    "                int(ds_p * fs)) + \"_\" + model + f\"_corr_channel_all.npy\",r_channel_permutation)\n",
    "\n",
    "    return 0\n"
   ],
   "metadata": {
    "collapsed": false,
    "ExecuteTime": {
     "end_time": "2023-11-17T05:10:58.790294600Z",
     "start_time": "2023-11-17T05:10:58.775294800Z"
    }
   },
   "id": "bfa124b380d15a44"
  },
  {
   "cell_type": "code",
   "execution_count": 3,
   "outputs": [
    {
     "name": "stderr",
     "output_type": "stream",
     "text": [
      "  0%|          | 0/200 [00:00<?, ?it/s]\n"
     ]
    },
    {
     "ename": "FileNotFoundError",
     "evalue": "[Errno 2] No such file or directory: 'E:/DATA_Wangzhenjie/covert/TRF/HS44/HS44_overt_-300300_trace_model_r2_channel_0.npy'",
     "output_type": "error",
     "traceback": [
      "\u001B[1;31m---------------------------------------------------------------------------\u001B[0m",
      "\u001B[1;31mFileNotFoundError\u001B[0m                         Traceback (most recent call last)",
      "Cell \u001B[1;32mIn [3], line 5\u001B[0m\n\u001B[0;32m      2\u001B[0m clean_data_path \u001B[38;5;241m=\u001B[39m \u001B[38;5;124m\"\u001B[39m\u001B[38;5;124mE:/DATA_Wangzhenjie/covert\u001B[39m\u001B[38;5;124m\"\u001B[39m\n\u001B[0;32m      4\u001B[0m \u001B[38;5;28;01mfor\u001B[39;00m task \u001B[38;5;129;01min\u001B[39;00m [\u001B[38;5;124m'\u001B[39m\u001B[38;5;124movert\u001B[39m\u001B[38;5;124m'\u001B[39m,\u001B[38;5;124m'\u001B[39m\u001B[38;5;124mcovert\u001B[39m\u001B[38;5;124m'\u001B[39m]:\n\u001B[1;32m----> 5\u001B[0m     \u001B[43mcombine_r_r2\u001B[49m\u001B[43m(\u001B[49m\u001B[43mHS_list\u001B[49m\u001B[43m,\u001B[49m\u001B[43mclean_data_path\u001B[49m\u001B[43m,\u001B[49m\u001B[38;5;124;43m\"\u001B[39;49m\u001B[38;5;124;43mtrace_model\u001B[39;49m\u001B[38;5;124;43m\"\u001B[39;49m\u001B[43m,\u001B[49m\u001B[43mtask\u001B[49m\u001B[43m)\u001B[49m\n",
      "Cell \u001B[1;32mIn [2], line 22\u001B[0m, in \u001B[0;36mcombine_r_r2\u001B[1;34m(HS_list, clean_data_path, model, task_name, permutation_num)\u001B[0m\n\u001B[0;32m     19\u001B[0m r_channel_permutation \u001B[38;5;241m=\u001B[39m defaultdict(\u001B[38;5;28mlist\u001B[39m)\n\u001B[0;32m     20\u001B[0m \u001B[38;5;28;01mfor\u001B[39;00m i \u001B[38;5;129;01min\u001B[39;00m tqdm\u001B[38;5;241m.\u001B[39mtrange(permutation_num):\n\u001B[1;32m---> 22\u001B[0m     r2_channel \u001B[38;5;241m=\u001B[39m \u001B[43mnp\u001B[49m\u001B[38;5;241;43m.\u001B[39;49m\u001B[43mload\u001B[49m\u001B[43m(\u001B[49m\u001B[43msave_path\u001B[49m\u001B[43m \u001B[49m\u001B[38;5;241;43m+\u001B[39;49m\u001B[43m \u001B[49m\u001B[38;5;124;43m\"\u001B[39;49m\u001B[38;5;124;43mHS\u001B[39;49m\u001B[38;5;124;43m\"\u001B[39;49m\u001B[43m \u001B[49m\u001B[38;5;241;43m+\u001B[39;49m\u001B[43m \u001B[49m\u001B[38;5;28;43mstr\u001B[39;49m\u001B[43m(\u001B[49m\u001B[43mHS\u001B[49m\u001B[43m)\u001B[49m\u001B[43m \u001B[49m\u001B[38;5;241;43m+\u001B[39;49m\u001B[43m \u001B[49m\u001B[38;5;124;43m\"\u001B[39;49m\u001B[38;5;124;43m_\u001B[39;49m\u001B[38;5;124;43m\"\u001B[39;49m\u001B[43m \u001B[49m\u001B[38;5;241;43m+\u001B[39;49m\u001B[43m \u001B[49m\u001B[43mtask_name\u001B[49m\u001B[43m \u001B[49m\u001B[38;5;241;43m+\u001B[39;49m\u001B[43m \u001B[49m\u001B[38;5;124;43m\"\u001B[39;49m\u001B[38;5;124;43m_\u001B[39;49m\u001B[38;5;124;43m\"\u001B[39;49m\u001B[43m \u001B[49m\u001B[38;5;241;43m+\u001B[39;49m\u001B[43m \u001B[49m\u001B[38;5;28;43mstr\u001B[39;49m\u001B[43m(\u001B[49m\u001B[38;5;28;43mint\u001B[39;49m\u001B[43m(\u001B[49m\u001B[43mds_a\u001B[49m\u001B[43m \u001B[49m\u001B[38;5;241;43m*\u001B[39;49m\u001B[43m \u001B[49m\u001B[43mfs\u001B[49m\u001B[43m)\u001B[49m\u001B[43m)\u001B[49m\u001B[43m \u001B[49m\u001B[38;5;241;43m+\u001B[39;49m\u001B[43m \u001B[49m\u001B[38;5;28;43mstr\u001B[39;49m\u001B[43m(\u001B[49m\n\u001B[0;32m     23\u001B[0m \u001B[43m        \u001B[49m\u001B[38;5;28;43mint\u001B[39;49m\u001B[43m(\u001B[49m\u001B[43mds_p\u001B[49m\u001B[43m \u001B[49m\u001B[38;5;241;43m*\u001B[39;49m\u001B[43m \u001B[49m\u001B[43mfs\u001B[49m\u001B[43m)\u001B[49m\u001B[43m)\u001B[49m\u001B[43m \u001B[49m\u001B[38;5;241;43m+\u001B[39;49m\u001B[43m \u001B[49m\u001B[38;5;124;43m\"\u001B[39;49m\u001B[38;5;124;43m_\u001B[39;49m\u001B[38;5;124;43m\"\u001B[39;49m\u001B[43m \u001B[49m\u001B[38;5;241;43m+\u001B[39;49m\u001B[43m \u001B[49m\u001B[43mmodel\u001B[49m\u001B[43m \u001B[49m\u001B[38;5;241;43m+\u001B[39;49m\u001B[43m \u001B[49m\u001B[38;5;124;43mf\u001B[39;49m\u001B[38;5;124;43m\"\u001B[39;49m\u001B[38;5;124;43m_r2_channel_\u001B[39;49m\u001B[38;5;132;43;01m{\u001B[39;49;00m\u001B[43mi\u001B[49m\u001B[38;5;132;43;01m}\u001B[39;49;00m\u001B[38;5;124;43m.npy\u001B[39;49m\u001B[38;5;124;43m\"\u001B[39;49m\u001B[43m,\u001B[49m\u001B[43m \u001B[49m\u001B[43mallow_pickle\u001B[49m\u001B[38;5;241;43m=\u001B[39;49m\u001B[38;5;28;43;01mTrue\u001B[39;49;00m\u001B[43m)\u001B[49m\u001B[38;5;241m.\u001B[39mitem()\n\u001B[0;32m     24\u001B[0m     r_channel \u001B[38;5;241m=\u001B[39m np\u001B[38;5;241m.\u001B[39mload(save_path \u001B[38;5;241m+\u001B[39m \u001B[38;5;124m\"\u001B[39m\u001B[38;5;124mHS\u001B[39m\u001B[38;5;124m\"\u001B[39m \u001B[38;5;241m+\u001B[39m \u001B[38;5;28mstr\u001B[39m(HS) \u001B[38;5;241m+\u001B[39m \u001B[38;5;124m\"\u001B[39m\u001B[38;5;124m_\u001B[39m\u001B[38;5;124m\"\u001B[39m \u001B[38;5;241m+\u001B[39m task_name \u001B[38;5;241m+\u001B[39m \u001B[38;5;124m\"\u001B[39m\u001B[38;5;124m_\u001B[39m\u001B[38;5;124m\"\u001B[39m \u001B[38;5;241m+\u001B[39m \u001B[38;5;28mstr\u001B[39m(\u001B[38;5;28mint\u001B[39m(ds_a \u001B[38;5;241m*\u001B[39m fs)) \u001B[38;5;241m+\u001B[39m \u001B[38;5;28mstr\u001B[39m(\n\u001B[0;32m     25\u001B[0m         \u001B[38;5;28mint\u001B[39m(ds_p \u001B[38;5;241m*\u001B[39m fs)) \u001B[38;5;241m+\u001B[39m \u001B[38;5;124m\"\u001B[39m\u001B[38;5;124m_\u001B[39m\u001B[38;5;124m\"\u001B[39m \u001B[38;5;241m+\u001B[39m model \u001B[38;5;241m+\u001B[39m \u001B[38;5;124mf\u001B[39m\u001B[38;5;124m\"\u001B[39m\u001B[38;5;124m_corr_channel_\u001B[39m\u001B[38;5;132;01m{\u001B[39;00mi\u001B[38;5;132;01m}\u001B[39;00m\u001B[38;5;124m.npy\u001B[39m\u001B[38;5;124m\"\u001B[39m,allow_pickle\u001B[38;5;241m=\u001B[39m\u001B[38;5;28;01mTrue\u001B[39;00m)\u001B[38;5;241m.\u001B[39mitem()\n\u001B[0;32m     26\u001B[0m     \u001B[38;5;28;01mfor\u001B[39;00m key \u001B[38;5;129;01min\u001B[39;00m r2_channel:\n",
      "File \u001B[1;32m~\\anaconda3\\envs\\ECOG\\lib\\site-packages\\numpy\\lib\\npyio.py:405\u001B[0m, in \u001B[0;36mload\u001B[1;34m(file, mmap_mode, allow_pickle, fix_imports, encoding, max_header_size)\u001B[0m\n\u001B[0;32m    403\u001B[0m     own_fid \u001B[38;5;241m=\u001B[39m \u001B[38;5;28;01mFalse\u001B[39;00m\n\u001B[0;32m    404\u001B[0m \u001B[38;5;28;01melse\u001B[39;00m:\n\u001B[1;32m--> 405\u001B[0m     fid \u001B[38;5;241m=\u001B[39m stack\u001B[38;5;241m.\u001B[39menter_context(\u001B[38;5;28;43mopen\u001B[39;49m\u001B[43m(\u001B[49m\u001B[43mos_fspath\u001B[49m\u001B[43m(\u001B[49m\u001B[43mfile\u001B[49m\u001B[43m)\u001B[49m\u001B[43m,\u001B[49m\u001B[43m \u001B[49m\u001B[38;5;124;43m\"\u001B[39;49m\u001B[38;5;124;43mrb\u001B[39;49m\u001B[38;5;124;43m\"\u001B[39;49m\u001B[43m)\u001B[49m)\n\u001B[0;32m    406\u001B[0m     own_fid \u001B[38;5;241m=\u001B[39m \u001B[38;5;28;01mTrue\u001B[39;00m\n\u001B[0;32m    408\u001B[0m \u001B[38;5;66;03m# Code to distinguish from NumPy binary files and pickles.\u001B[39;00m\n",
      "\u001B[1;31mFileNotFoundError\u001B[0m: [Errno 2] No such file or directory: 'E:/DATA_Wangzhenjie/covert/TRF/HS44/HS44_overt_-300300_trace_model_r2_channel_0.npy'"
     ]
    }
   ],
   "source": [
    "HS_list = [44]\n",
    "clean_data_path = \"E:/DATA_Wangzhenjie/covert\"\n",
    "\n",
    "for task in ['overt','covert']:\n",
    "    combine_r_r2(HS_list,clean_data_path,\"trace_model\",task)"
   ],
   "metadata": {
    "collapsed": false,
    "ExecuteTime": {
     "end_time": "2023-11-17T05:11:03.894184900Z",
     "start_time": "2023-11-17T05:10:58.791294700Z"
    }
   },
   "id": "8e8c48617d49dd72"
  },
  {
   "cell_type": "code",
   "execution_count": null,
   "outputs": [],
   "source": [],
   "metadata": {
    "collapsed": false,
    "ExecuteTime": {
     "end_time": "2023-11-17T05:11:03.898184800Z",
     "start_time": "2023-11-17T05:11:03.895184300Z"
    }
   },
   "id": "425fd1cc3a2d13fb"
  }
 ],
 "metadata": {
  "kernelspec": {
   "display_name": "Python 3",
   "language": "python",
   "name": "python3"
  },
  "language_info": {
   "codemirror_mode": {
    "name": "ipython",
    "version": 2
   },
   "file_extension": ".py",
   "mimetype": "text/x-python",
   "name": "python",
   "nbconvert_exporter": "python",
   "pygments_lexer": "ipython2",
   "version": "2.7.6"
  }
 },
 "nbformat": 4,
 "nbformat_minor": 5
}
