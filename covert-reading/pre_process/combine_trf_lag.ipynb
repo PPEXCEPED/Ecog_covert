{
 "cells": [
  {
   "cell_type": "code",
   "execution_count": 1,
   "id": "initial_id",
   "metadata": {
    "collapsed": true,
    "ExecuteTime": {
     "end_time": "2023-11-17T01:31:37.306205500Z",
     "start_time": "2023-11-17T01:31:37.287206200Z"
    }
   },
   "outputs": [],
   "source": [
    "import os\n",
    "import numpy as np\n"
   ]
  },
  {
   "cell_type": "code",
   "execution_count": 2,
   "outputs": [],
   "source": [
    "def run_combine_TRF_elec2elec(HS_list,task_list,clean_data_path):\n",
    "    for task in task_list:\n",
    "\n",
    "        for HS in HS_list:\n",
    "\n",
    "            if HS < 70 and task == \"cue\":\n",
    "                continue\n",
    "\n",
    "            save_path = clean_data_path + \"/lags/\" + task\n",
    "            if not os.path.exists(save_path):\n",
    "                os.mkdir(save_path)\n",
    "\n",
    "            # load 或者从函数中直接得到，相应HS，相应task的字典\n",
    "            mat_file_name = save_path + \"/HS\" + str(HS) + \"_\"+task+\".npy\"\n",
    "\n",
    "            elec_path = clean_data_path + \"/elecs/elec_sig/\" + str(HS) + \"sig_elecs.npy\"\n",
    "\n",
    "            save_HS_path = save_path+\"/HS\"+str(HS)\n",
    "            \n",
    "            save_HS_path_combined = save_HS_path+\"_combined\"\n",
    "            if not os.path.exists(save_HS_path_combined):\n",
    "                os.mkdir(save_HS_path_combined)\n",
    "            sig = np.load(elec_path,allow_pickle=True).item()[task]\n",
    "\n",
    "\n",
    "            ds_a = -75\n",
    "            ds_p = 76\n",
    "            delays = np.arange(ds_a, ds_p)\n",
    "\n",
    "            wts_fold_total_combined = {}\n",
    "            r_2_total_combined = {}\n",
    "            r_total_combined = {}\n",
    "            for elec_x in sig:  # 获取电极的总数\n",
    "                for elec_y in sig:\n",
    "                    # 生成电极对并相互预测\n",
    "\n",
    "\n",
    "                    if elec_x != elec_y:\n",
    "                        \n",
    "\n",
    "                        r_2_total = np.load(save_HS_path + f'/r2_{elec_x}_{elec_y}.npy')\n",
    "\n",
    "\n",
    "                        r_total = np.load(save_HS_path + f'/r_{elec_x}_{elec_y}.npy')\n",
    "\n",
    "                        wts_fold_total = np.load(save_HS_path + f'/wts_fold_{elec_x}_{elec_y}.npy')\n",
    "                        wts_fold_total_combined[f'{elec_x}_{elec_y}'] = wts_fold_total\n",
    "                        r_2_total_combined[f'{elec_x}_{elec_y}'] = r_2_total\n",
    "                        r_total_combined[f'{elec_x}_{elec_y}'] = r_total\n",
    "            np.save(save_HS_path_combined + f'/wts_fold_combined.npy',wts_fold_total_combined)\n",
    "            np.save(save_HS_path_combined + f'/r2_fold_combined.npy',r_2_total_combined)      \n",
    "            np.save(save_HS_path_combined + f'/r_fold_combined.npy',r_total_combined)\n",
    "            print(f\"HS{HS}{task}complete\")"
   ],
   "metadata": {
    "collapsed": false,
    "ExecuteTime": {
     "end_time": "2023-11-17T01:31:38.478299500Z",
     "start_time": "2023-11-17T01:31:38.465299700Z"
    }
   },
   "id": "2d0651cc80ac0cbd"
  },
  {
   "cell_type": "code",
   "execution_count": 3,
   "outputs": [
    {
     "name": "stdout",
     "output_type": "stream",
     "text": [
      "HS45overtcomplete\n",
      "HS47overtcomplete\n",
      "HS48overtcomplete\n",
      "HS50overtcomplete\n",
      "HS54overtcomplete\n",
      "HS71overtcomplete\n",
      "HS73overtcomplete\n",
      "HS76overtcomplete\n",
      "HS78overtcomplete\n",
      "HS44covertcomplete\n",
      "HS45covertcomplete\n",
      "HS47covertcomplete\n",
      "HS48covertcomplete\n",
      "HS50covertcomplete\n",
      "HS54covertcomplete\n",
      "HS71covertcomplete\n",
      "HS73covertcomplete\n",
      "HS76covertcomplete\n",
      "HS78covertcomplete\n",
      "HS71cuecomplete\n",
      "HS73cuecomplete\n",
      "HS76cuecomplete\n",
      "HS78cuecomplete\n"
     ]
    }
   ],
   "source": [
    "\n",
    "clean_data_path = \"E:/DATA_Wangzhenjie/covert\"\n",
    "run_combine_TRF_elec2elec([44,45,47,48,50,54,71,73,76,78],[\"overt\",\"covert\",\"cue\"],clean_data_path)"
   ],
   "metadata": {
    "collapsed": false,
    "ExecuteTime": {
     "end_time": "2023-11-17T03:50:38.192709200Z",
     "start_time": "2023-11-17T01:31:40.303857700Z"
    }
   },
   "id": "6b3ae7395041424b"
  },
  {
   "cell_type": "code",
   "execution_count": null,
   "outputs": [],
   "source": [],
   "metadata": {
    "collapsed": false
   },
   "id": "24e88d525624e303"
  }
 ],
 "metadata": {
  "kernelspec": {
   "display_name": "Python 3",
   "language": "python",
   "name": "python3"
  },
  "language_info": {
   "codemirror_mode": {
    "name": "ipython",
    "version": 2
   },
   "file_extension": ".py",
   "mimetype": "text/x-python",
   "name": "python",
   "nbconvert_exporter": "python",
   "pygments_lexer": "ipython2",
   "version": "2.7.6"
  }
 },
 "nbformat": 4,
 "nbformat_minor": 5
}
