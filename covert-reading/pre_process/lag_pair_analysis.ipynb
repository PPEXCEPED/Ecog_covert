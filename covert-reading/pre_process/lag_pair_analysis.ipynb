{
 "cells": [
  {
   "cell_type": "code",
   "execution_count": 1,
   "id": "initial_id",
   "metadata": {
    "collapsed": true,
    "ExecuteTime": {
     "end_time": "2023-11-04T16:08:03.391701Z",
     "start_time": "2023-11-04T16:08:03.244620200Z"
    }
   },
   "outputs": [],
   "source": [
    "import numpy as np\n",
    "import seaborn as sns\n",
    "import matplotlib.pyplot as plt \n",
    "from HS_reading import *\n",
    "import tqdm\n"
   ]
  },
  {
   "cell_type": "code",
   "execution_count": null,
   "outputs": [],
   "source": [
    "HS_list = [44,45,47,48,50,54,71,73,76,78]\n",
    "clean_data_path = \"D:/BaiduSyncdisk/code\"\n",
    "for task in [\"overt\",\"covert\",\"cue\"]:\n",
    "    for HS in tqdm.tqdm(HS_list):\n",
    "        if HS < 70 and task == \"cue\":\n",
    "            pass\n",
    "        else:\n",
    "            hg_feat = get_hg_feat(HS,task,clean_data_path)\n",
    "            hg_feat_name = clean_data_path+\"/lags/\"+task+\"/HS\"+str(HS)+\"_\"+task+\".npy\"\n",
    "            np.save(hg_feat_name,hg_feat)"
   ],
   "metadata": {
    "collapsed": false
   },
   "id": "2920ccb1456549ca"
  },
  {
   "cell_type": "code",
   "execution_count": 3,
   "outputs": [
    {
     "ename": "TypeError",
     "evalue": "can only concatenate str (not \"int\") to str",
     "output_type": "error",
     "traceback": [
      "\u001B[1;31m---------------------------------------------------------------------------\u001B[0m",
      "\u001B[1;31mTypeError\u001B[0m                                 Traceback (most recent call last)",
      "Cell \u001B[1;32mIn [3], line 1\u001B[0m\n\u001B[1;32m----> 1\u001B[0m \u001B[43mrun_TRF_elec2elec\u001B[49m\u001B[43m(\u001B[49m\u001B[38;5;241;43m78\u001B[39;49m\u001B[43m,\u001B[49m\u001B[38;5;124;43m\"\u001B[39;49m\u001B[38;5;124;43movert\u001B[39;49m\u001B[38;5;124;43m\"\u001B[39;49m\u001B[43m,\u001B[49m\u001B[38;5;124;43m\"\u001B[39;49m\u001B[38;5;124;43mE:/DATA_Wangzhenjie/covert/\u001B[39;49m\u001B[38;5;124;43m\"\u001B[39;49m\u001B[43m)\u001B[49m\n",
      "File \u001B[1;32mD:\\BaiduSyncdisk\\covert reading\\HS_reading\\temporal_receptive_field.py:269\u001B[0m, in \u001B[0;36mrun_TRF_elec2elec\u001B[1;34m(HS, task, clean_data_path)\u001B[0m\n\u001B[0;32m    265\u001B[0m mat_file_name \u001B[38;5;241m=\u001B[39m save_path \u001B[38;5;241m+\u001B[39m \u001B[38;5;124m\"\u001B[39m\u001B[38;5;124m/HS\u001B[39m\u001B[38;5;124m\"\u001B[39m \u001B[38;5;241m+\u001B[39m \u001B[38;5;28mstr\u001B[39m(HS) \u001B[38;5;241m+\u001B[39m \u001B[38;5;124m\"\u001B[39m\u001B[38;5;124m_\u001B[39m\u001B[38;5;124m\"\u001B[39m\u001B[38;5;241m+\u001B[39mtask\u001B[38;5;241m+\u001B[39m\u001B[38;5;124m\"\u001B[39m\u001B[38;5;124m.npy\u001B[39m\u001B[38;5;124m\"\u001B[39m\n\u001B[0;32m    267\u001B[0m elec_path \u001B[38;5;241m=\u001B[39m clean_data_path \u001B[38;5;241m+\u001B[39m \u001B[38;5;124m\"\u001B[39m\u001B[38;5;124melecs/\u001B[39m\u001B[38;5;124m\"\u001B[39m \u001B[38;5;241m+\u001B[39m \u001B[38;5;28mstr\u001B[39m(HS) \u001B[38;5;241m+\u001B[39m \u001B[38;5;124m\"\u001B[39m\u001B[38;5;124msig_elecs.npy\u001B[39m\u001B[38;5;124m\"\u001B[39m\n\u001B[1;32m--> 269\u001B[0m save_HS_path \u001B[38;5;241m=\u001B[39m \u001B[43msave_path\u001B[49m\u001B[38;5;241;43m+\u001B[39;49m\u001B[43mHS\u001B[49m\u001B[38;5;241m+\u001B[39m\u001B[38;5;28mstr\u001B[39m(HS)\n\u001B[0;32m    271\u001B[0m sig \u001B[38;5;241m=\u001B[39m np\u001B[38;5;241m.\u001B[39mload(elec_path,allow_pickle\u001B[38;5;241m=\u001B[39m\u001B[38;5;28;01mTrue\u001B[39;00m)\u001B[38;5;241m.\u001B[39mitem()[task]\n\u001B[0;32m    273\u001B[0m \u001B[38;5;28;01mif\u001B[39;00m os\u001B[38;5;241m.\u001B[39mpath\u001B[38;5;241m.\u001B[39mexists(save_HS_path):\n",
      "\u001B[1;31mTypeError\u001B[0m: can only concatenate str (not \"int\") to str"
     ]
    }
   ],
   "source": [],
   "metadata": {
    "collapsed": false,
    "ExecuteTime": {
     "end_time": "2023-11-04T13:05:33.037457700Z",
     "start_time": "2023-11-04T13:05:32.986457800Z"
    }
   },
   "id": "179b5f89a2186b68"
  },
  {
   "cell_type": "code",
   "execution_count": 3,
   "outputs": [
    {
     "name": "stdout",
     "output_type": "stream",
     "text": [
      "{'overt': [0, 1, 2, 3, 4, 5, 6, 7, 8, 9, 10, 11, 16, 17, 18, 19, 20, 21, 22, 23, 24, 25, 26, 27, 32, 33, 34, 35, 36, 37, 38, 39, 40, 41, 42, 43, 48, 49, 50, 51, 52, 53, 54, 55, 56, 57, 58, 59, 64, 65, 67, 68, 69, 70, 71, 72, 73, 74, 75, 76, 77, 81, 82, 83, 84, 85, 86, 87, 88, 89, 90, 91, 92, 96, 97, 98, 99, 100, 101, 102, 103, 104, 105, 106, 107, 108, 112, 113, 114, 116, 117, 118, 119, 120, 121, 122, 123, 127, 128, 130, 131, 132, 133, 137, 139, 140, 141, 142, 143, 144, 145, 146, 147, 148, 149, 156, 157, 158, 162, 163, 164, 165, 166, 168, 169, 172, 173, 174, 175, 178, 179, 180, 181, 182, 183, 184, 185, 186, 188, 189, 193, 194, 195, 196, 197, 198, 201, 202, 203, 204, 205, 206, 207, 208, 209, 210, 211, 212, 213, 217, 218, 219, 220, 221, 222, 223, 224, 225, 226, 227, 228, 229, 233, 234, 235, 236, 240, 243, 244, 245, 246, 247, 249, 250, 251, 252, 253, 254, 255], 'covert': [0, 1, 2, 3, 4, 16, 17, 19, 20, 21, 22, 23, 24, 27, 34, 35, 36, 37, 38, 39, 40, 41, 42, 43, 50, 51, 52, 53, 54, 55, 56, 57, 58, 59, 60, 66, 67, 68, 70, 71, 72, 73, 74, 75, 76, 84, 85, 86, 87, 88, 89, 90, 91, 92, 95, 96, 99, 100, 101, 102, 103, 104, 105, 106, 107, 108, 114, 118, 119, 120, 121, 122, 123, 125, 128, 140, 141, 156, 157, 191, 193, 194, 195, 200, 202, 203, 204, 207, 208, 210, 211, 215, 216, 217, 218, 219, 220, 223, 224, 225, 233, 234, 235, 236, 239, 243, 245, 246, 247, 255], 'cue': [3, 4, 5, 6, 9, 10, 11, 13, 15, 17, 18, 19, 20, 21, 22, 23, 24, 25, 26, 27, 28, 32, 33, 34, 35, 36, 37, 38, 39, 40, 41, 42, 46, 49, 50, 52, 53, 54, 55, 56, 58, 59, 65, 67, 68, 69, 70, 71, 72, 73, 75, 78, 80, 81, 84, 85, 86, 87, 88, 95, 96, 99, 100, 101, 102, 103, 105, 112, 113, 115, 116, 118, 119, 126, 141, 143, 148, 149, 152, 156, 157, 158, 164, 166, 172, 173, 188, 200, 201, 202, 203, 204, 205, 206, 214, 215, 217, 218, 219, 220, 229, 231, 234, 235, 252, 254, 255]}\n"
     ]
    }
   ],
   "source": [
    "clean_data_path = \"E:/DATA_Wangzhenjie/covert\"\n",
    "HS = 78\n",
    "elec_path = clean_data_path + \"/elecs/elec_sig/\" + str(HS) + \"sig_elecs.npy\"\n",
    "x = np.load(elec_path,allow_pickle=True).item()\n",
    "print(x)"
   ],
   "metadata": {
    "collapsed": false,
    "ExecuteTime": {
     "end_time": "2023-11-04T13:17:34.775988100Z",
     "start_time": "2023-11-04T13:17:30.417546100Z"
    }
   },
   "id": "28496e76e93df57a"
  },
  {
   "cell_type": "code",
   "execution_count": 15,
   "outputs": [],
   "source": [
    "def generate_shuffled_data(HS, task_name=\"covert\",permutation_num = 200):\n",
    "    \"\"\"\"\n",
    "    ex_feature 是个列表，生成里面所有的delta\n",
    "    feature_pool 是feature计算的总体\n",
    "    \"\"\"\n",
    "    save_p_path = clean_data_path + \"/TRF/\" + \"HS\" + str(HS) + \"/permutation/\"\n",
    "    save_path = clean_data_path + \"/TRF/\" + \"HS\" + str(HS) + \"/\"\n",
    "    if not os.path.exists(save_p_path):\n",
    "        os.mkdir(save_p_path)\n",
    "    for subfold in [\"shuffle_data/\",\"r/\",\"r2/\"]:\n",
    "        if not os.path.exists(save_p_path+subfold):\n",
    "            os.mkdir(save_p_path+subfold)\n",
    "\n",
    "    mat_file_name = save_path + \"HS\" + str(HS) + \"_\" + task_name + \"_\" + \"_feat_mat.npy\"\n",
    "    if os.path.exists(mat_file_name):\n",
    "        feat_mat = np.load(mat_file_name, allow_pickle=True).item()\n",
    "    else:\n",
    "        feat_mat = get_feat(HS, task_name,\" \")\n",
    "        np.save(mat_file_name, feat_mat)\n",
    "\n",
    "\n",
    "    for i in tqdm.trange(permutation_num):\n",
    "\n",
    "        np.random.seed(i)\n",
    "        resp = copy.deepcopy(feat_mat[\"hg\"])\n",
    "        np.random.shuffle(resp)\n",
    "        file_name = f\"HS{HS}_hg_shuffle_full_{task}_{i}.npy\"\n",
    "        np.save(save_p_path+\"shuffle_data/\"+file_name,resp)\n",
    "        "
   ],
   "metadata": {
    "collapsed": false,
    "ExecuteTime": {
     "end_time": "2023-11-04T16:35:02.102742200Z",
     "start_time": "2023-11-04T16:35:02.089740Z"
    }
   },
   "id": "a1d512a000048acf"
  },
  {
   "cell_type": "code",
   "execution_count": null,
   "outputs": [],
   "source": [],
   "metadata": {
    "collapsed": false
   },
   "id": "fed461280a83da46"
  },
  {
   "cell_type": "code",
   "execution_count": 2,
   "outputs": [
    {
     "name": "stdout",
     "output_type": "stream",
     "text": [
      "78\n",
      "8 8\n"
     ]
    }
   ],
   "source": [
    "HS = 78\n",
    "for task_name in ['covert']:\n",
    "    clean_data_path = \"D:/BaiduSyncdisk/code/\"\n",
    "    save_path = clean_data_path + \"TRF/\"+\"HS\"+str(HS)+\"/\"\n",
    "    mat_file_name = save_path+\"HS\"+str(HS)+\"_\"+task_name+\"_\"+\"_feat_mat.npy\"\n",
    "    if os.path.exists(mat_file_name):\n",
    "        feat_mat = np.load(mat_file_name,allow_pickle=True).item()\n",
    "    else:\n",
    "        feat_mat = get_feat(HS,task_name,clean_data_path)\n",
    "        np.save(mat_file_name,feat_mat)"
   ],
   "metadata": {
    "collapsed": false,
    "ExecuteTime": {
     "end_time": "2023-11-04T16:08:31.229373300Z",
     "start_time": "2023-11-04T16:08:09.951512600Z"
    }
   },
   "id": "8c90df4d74b3f8bf"
  },
  {
   "cell_type": "code",
   "execution_count": 16,
   "outputs": [
    {
     "name": "stderr",
     "output_type": "stream",
     "text": [
      "100%|██████████| 200/200 [01:41<00:00,  1.97it/s]\n",
      "100%|██████████| 200/200 [01:32<00:00,  2.16it/s]\n",
      "100%|██████████| 200/200 [02:44<00:00,  1.22it/s]\n",
      "100%|██████████| 200/200 [02:45<00:00,  1.21it/s]\n",
      "100%|██████████| 200/200 [02:42<00:00,  1.23it/s]\n",
      "100%|██████████| 200/200 [02:43<00:00,  1.23it/s]\n",
      "100%|██████████| 200/200 [02:42<00:00,  1.23it/s]\n",
      "100%|██████████| 200/200 [02:43<00:00,  1.23it/s]\n",
      "100%|██████████| 200/200 [02:53<00:00,  1.15it/s]\n",
      "100%|██████████| 200/200 [02:56<00:00,  1.13it/s]\n",
      "100%|██████████| 200/200 [03:06<00:00,  1.07it/s]\n",
      "100%|██████████| 200/200 [03:04<00:00,  1.08it/s]\n",
      "100%|██████████| 200/200 [03:57<00:00,  1.19s/it]\n",
      "100%|██████████| 200/200 [03:59<00:00,  1.20s/it]\n",
      "100%|██████████| 200/200 [04:36<00:00,  1.38s/it]\n",
      "100%|██████████| 200/200 [04:37<00:00,  1.39s/it]\n",
      "100%|██████████| 200/200 [04:51<00:00,  1.46s/it]\n",
      "100%|██████████| 200/200 [05:02<00:00,  1.51s/it]\n",
      "100%|██████████| 200/200 [05:09<00:00,  1.55s/it]\n",
      "100%|██████████| 200/200 [05:05<00:00,  1.53s/it]\n"
     ]
    }
   ],
   "source": [
    "HS_list = [44,45,47,48,50,54,71,73,76,78]\n",
    "clean_data_path = \"E:/DATA_Wangzhenjie/covert\"\n",
    "for HS in HS_list:\n",
    "    for task in ['overt','covert']:\n",
    "        generate_shuffled_data(HS,task)"
   ],
   "metadata": {
    "collapsed": false,
    "ExecuteTime": {
     "end_time": "2023-11-04T17:44:39.999067500Z",
     "start_time": "2023-11-04T16:35:09.003933100Z"
    }
   },
   "id": "63df8108499bb1eb"
  },
  {
   "cell_type": "code",
   "execution_count": 19,
   "outputs": [
    {
     "name": "stdout",
     "output_type": "stream",
     "text": [
      "[[ 0.56518497 -0.74738854 -0.24131855 ... -1.3696475  -0.45986116\n",
      "  -0.110309  ]\n",
      " [ 0.63521564  0.41858855  0.28586122 ... -1.24538296 -0.92478648\n",
      "  -1.50925853]\n",
      " [-1.33440599 -0.69633374  0.46023349 ...  0.04946374  0.09706822\n",
      "   0.07501834]\n",
      " ...\n",
      " [-0.72298974 -1.75751964 -1.53942114 ...  0.3435116  -1.06295074\n",
      "   0.9132347 ]\n",
      " [ 0.26993912  0.18403592 -0.1539986  ... -0.06088412  0.84338564\n",
      "   0.21159076]\n",
      " [-0.6296876  -0.78344021 -0.53654463 ... -1.23500189  0.08080635\n",
      "   1.26173429]]\n"
     ]
    }
   ],
   "source": [
    "x = np.load(\"E:/DATA_Wangzhenjie/covert/TRF/HS45/permutation/shuffle_data/HS45_hg_shuffle_full_1.npy\")\n",
    "print(x)"
   ],
   "metadata": {
    "collapsed": false,
    "ExecuteTime": {
     "end_time": "2023-11-05T03:35:28.686015Z",
     "start_time": "2023-11-05T03:35:23.586262100Z"
    }
   },
   "id": "159c9184447f1a63"
  },
  {
   "cell_type": "code",
   "execution_count": 11,
   "outputs": [
    {
     "name": "stdout",
     "output_type": "stream",
     "text": [
      "None\n"
     ]
    }
   ],
   "source": [
    "x = np.ones([500,100])\n",
    "resp = np.random.shuffle(x)\n",
    "print(resp)"
   ],
   "metadata": {
    "collapsed": false,
    "ExecuteTime": {
     "end_time": "2023-11-04T16:13:26.748387600Z",
     "start_time": "2023-11-04T16:13:26.733388800Z"
    }
   },
   "id": "d6c2cc435ae8d6be"
  },
  {
   "cell_type": "code",
   "execution_count": null,
   "outputs": [],
   "source": [],
   "metadata": {
    "collapsed": false
   },
   "id": "5097999a50b6f0a6"
  }
 ],
 "metadata": {
  "kernelspec": {
   "display_name": "Python 3",
   "language": "python",
   "name": "python3"
  },
  "language_info": {
   "codemirror_mode": {
    "name": "ipython",
    "version": 2
   },
   "file_extension": ".py",
   "mimetype": "text/x-python",
   "name": "python",
   "nbconvert_exporter": "python",
   "pygments_lexer": "ipython2",
   "version": "2.7.6"
  }
 },
 "nbformat": 4,
 "nbformat_minor": 5
}
