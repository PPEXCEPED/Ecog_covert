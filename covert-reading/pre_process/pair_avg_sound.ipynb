{
 "cells": [
  {
   "cell_type": "code",
   "execution_count": 2,
   "id": "initial_id",
   "metadata": {
    "collapsed": true,
    "ExecuteTime": {
     "end_time": "2023-10-29T17:24:44.524031300Z",
     "start_time": "2023-10-29T17:24:44.508032300Z"
    }
   },
   "outputs": [],
   "source": [
    "import numpy as np\n",
    "import seaborn as sns\n",
    "import matplotlib.pyplot as plt \n",
    "from HS_reading import pairs_sound_avg\n",
    "from HS_reading import lag_data_generate"
   ]
  },
  {
   "cell_type": "code",
   "execution_count": 3,
   "outputs": [
    {
     "name": "stdout",
     "output_type": "stream",
     "text": [
      "HS44 start: \n"
     ]
    },
    {
     "ename": "KeyboardInterrupt",
     "evalue": "",
     "output_type": "error",
     "traceback": [
      "\u001B[1;31m---------------------------------------------------------------------------\u001B[0m",
      "\u001B[1;31mKeyboardInterrupt\u001B[0m                         Traceback (most recent call last)",
      "Cell \u001B[1;32mIn [3], line 3\u001B[0m\n\u001B[0;32m      1\u001B[0m HS_list \u001B[38;5;241m=\u001B[39m [\u001B[38;5;241m44\u001B[39m,\u001B[38;5;241m45\u001B[39m,\u001B[38;5;241m47\u001B[39m,\u001B[38;5;241m48\u001B[39m,\u001B[38;5;241m50\u001B[39m,\u001B[38;5;241m54\u001B[39m,\u001B[38;5;241m71\u001B[39m,\u001B[38;5;241m73\u001B[39m,\u001B[38;5;241m76\u001B[39m,\u001B[38;5;241m78\u001B[39m]\n\u001B[0;32m      2\u001B[0m clean_data_path \u001B[38;5;241m=\u001B[39m \u001B[38;5;124m\"\u001B[39m\u001B[38;5;124mD:/BaiduSyncdisk/code\u001B[39m\u001B[38;5;124m\"\u001B[39m\n\u001B[1;32m----> 3\u001B[0m \u001B[43mpairs_sound_avg\u001B[49m\u001B[43m(\u001B[49m\u001B[38;5;241;43m75\u001B[39;49m\u001B[43m,\u001B[49m\u001B[43mHS_list\u001B[49m\u001B[43m,\u001B[49m\u001B[43mclean_data_path\u001B[49m\u001B[43m)\u001B[49m\n",
      "File \u001B[1;32mD:\\BaiduSyncdisk\\covert reading\\HS_reading\\lag_process.py:152\u001B[0m, in \u001B[0;36mpairs_sound_avg\u001B[1;34m(lag, HS_list, clean_path_data, correlation)\u001B[0m\n\u001B[0;32m    149\u001B[0m trial_list_r \u001B[38;5;241m=\u001B[39m []\n\u001B[0;32m    150\u001B[0m trial_list_p \u001B[38;5;241m=\u001B[39m []\n\u001B[1;32m--> 152\u001B[0m trial_list_r, trial_list_p \u001B[38;5;241m=\u001B[39m \u001B[43mcross_correlation_matrix_pearsonr\u001B[49m\u001B[43m(\u001B[49m\u001B[43mnp\u001B[49m\u001B[38;5;241;43m.\u001B[39;49m\u001B[43mmean\u001B[49m\u001B[43m(\u001B[49m\u001B[43mecog\u001B[49m\u001B[43m[\u001B[49m\u001B[43m:\u001B[49m\u001B[43m,\u001B[49m\u001B[43m \u001B[49m\u001B[43mp\u001B[49m\u001B[43m,\u001B[49m\u001B[43m \u001B[49m\u001B[43monset\u001B[49m\u001B[43m \u001B[49m\u001B[38;5;241;43m-\u001B[39;49m\u001B[43m \u001B[49m\u001B[43mforward\u001B[49m\u001B[43m:\u001B[49m\u001B[43monset\u001B[49m\u001B[43m \u001B[49m\u001B[38;5;241;43m+\u001B[39;49m\u001B[43m \u001B[49m\u001B[43mbackward\u001B[49m\u001B[43m]\u001B[49m\u001B[43m,\u001B[49m\u001B[43maxis\u001B[49m\u001B[38;5;241;43m=\u001B[39;49m\u001B[38;5;241;43m0\u001B[39;49m\u001B[43m)\u001B[49m\u001B[43m,\u001B[49m\n\u001B[0;32m    153\u001B[0m \u001B[43m                                       \u001B[49m\u001B[43mnp\u001B[49m\u001B[38;5;241;43m.\u001B[39;49m\u001B[43mmean\u001B[49m\u001B[43m(\u001B[49m\u001B[43mecog\u001B[49m\u001B[43m[\u001B[49m\u001B[43m:\u001B[49m\u001B[43m,\u001B[49m\u001B[43m \u001B[49m\u001B[43mq\u001B[49m\u001B[43m,\u001B[49m\u001B[43m \u001B[49m\u001B[43monset\u001B[49m\u001B[43m \u001B[49m\u001B[38;5;241;43m-\u001B[39;49m\u001B[43m \u001B[49m\u001B[43mforward\u001B[49m\u001B[43m:\u001B[49m\u001B[43monset\u001B[49m\u001B[43m \u001B[49m\u001B[38;5;241;43m+\u001B[39;49m\u001B[43m \u001B[49m\u001B[43mbackward\u001B[49m\u001B[43m]\u001B[49m\u001B[43m,\u001B[49m\u001B[43maxis\u001B[49m\u001B[38;5;241;43m=\u001B[39;49m\u001B[38;5;241;43m0\u001B[39;49m\u001B[43m)\u001B[49m\u001B[43m,\u001B[49m\u001B[43m \u001B[49m\u001B[43mlag\u001B[49m\u001B[43m)\u001B[49m\n\u001B[0;32m    154\u001B[0m elec_total_r[\u001B[38;5;124mf\u001B[39m\u001B[38;5;124m'\u001B[39m\u001B[38;5;132;01m{\u001B[39;00mterm\u001B[38;5;132;01m}\u001B[39;00m\u001B[38;5;124m'\u001B[39m][\u001B[38;5;124mf\u001B[39m\u001B[38;5;124m'\u001B[39m\u001B[38;5;132;01m{\u001B[39;00mp\u001B[38;5;132;01m}\u001B[39;00m\u001B[38;5;124m'\u001B[39m \u001B[38;5;241m+\u001B[39m \u001B[38;5;124m'\u001B[39m\u001B[38;5;124m_\u001B[39m\u001B[38;5;124m'\u001B[39m \u001B[38;5;241m+\u001B[39m \u001B[38;5;124mf\u001B[39m\u001B[38;5;124m'\u001B[39m\u001B[38;5;132;01m{\u001B[39;00mq\u001B[38;5;132;01m}\u001B[39;00m\u001B[38;5;124m'\u001B[39m] \u001B[38;5;241m=\u001B[39m np\u001B[38;5;241m.\u001B[39marray(trial_list_r)\n\u001B[0;32m    155\u001B[0m elec_total_p[\u001B[38;5;124mf\u001B[39m\u001B[38;5;124m'\u001B[39m\u001B[38;5;132;01m{\u001B[39;00mterm\u001B[38;5;132;01m}\u001B[39;00m\u001B[38;5;124m'\u001B[39m][\u001B[38;5;124mf\u001B[39m\u001B[38;5;124m'\u001B[39m\u001B[38;5;132;01m{\u001B[39;00mp\u001B[38;5;132;01m}\u001B[39;00m\u001B[38;5;124m'\u001B[39m \u001B[38;5;241m+\u001B[39m \u001B[38;5;124m'\u001B[39m\u001B[38;5;124m_\u001B[39m\u001B[38;5;124m'\u001B[39m \u001B[38;5;241m+\u001B[39m \u001B[38;5;124mf\u001B[39m\u001B[38;5;124m'\u001B[39m\u001B[38;5;132;01m{\u001B[39;00mq\u001B[38;5;132;01m}\u001B[39;00m\u001B[38;5;124m'\u001B[39m] \u001B[38;5;241m=\u001B[39m np\u001B[38;5;241m.\u001B[39marray(trial_list_p)\n",
      "File \u001B[1;32mD:\\BaiduSyncdisk\\covert reading\\HS_reading\\lag_process.py:30\u001B[0m, in \u001B[0;36mcross_correlation_matrix_pearsonr\u001B[1;34m(sp_1, sp_2, lag)\u001B[0m\n\u001B[0;32m     28\u001B[0m r,p \u001B[38;5;241m=\u001B[39m np\u001B[38;5;241m.\u001B[39mzeros([\u001B[38;5;241m1\u001B[39m \u001B[38;5;241m+\u001B[39m \u001B[38;5;241m2\u001B[39m \u001B[38;5;241m*\u001B[39m lag]), np\u001B[38;5;241m.\u001B[39mzeros([\u001B[38;5;241m1\u001B[39m \u001B[38;5;241m+\u001B[39m \u001B[38;5;241m2\u001B[39m \u001B[38;5;241m*\u001B[39m lag])\n\u001B[0;32m     29\u001B[0m \u001B[38;5;28;01mfor\u001B[39;00m i \u001B[38;5;129;01min\u001B[39;00m \u001B[38;5;28mrange\u001B[39m(\u001B[38;5;241m1\u001B[39m \u001B[38;5;241m+\u001B[39m \u001B[38;5;241m2\u001B[39m \u001B[38;5;241m*\u001B[39m lag):\n\u001B[1;32m---> 30\u001B[0m     \u001B[43mtotal_matrix\u001B[49m\u001B[43m[\u001B[49m\u001B[43mi\u001B[49m\u001B[43m,\u001B[49m\u001B[43m \u001B[49m\u001B[43mi\u001B[49m\u001B[43m:\u001B[49m\u001B[43mi\u001B[49m\u001B[43m \u001B[49m\u001B[38;5;241;43m+\u001B[39;49m\u001B[43m \u001B[49m\u001B[38;5;28;43mlen\u001B[39;49m\u001B[43m(\u001B[49m\u001B[43msp_1\u001B[49m\u001B[43m)\u001B[49m\u001B[43m]\u001B[49m \u001B[38;5;241m=\u001B[39m sp_1\n\u001B[0;32m     31\u001B[0m     \u001B[38;5;28;01mif\u001B[39;00m \u001B[38;5;28mlen\u001B[39m(total_matrix[i,lag:i \u001B[38;5;241m+\u001B[39m \u001B[38;5;28mlen\u001B[39m(sp_1)])\u001B[38;5;241m<\u001B[39m\u001B[38;5;241m=\u001B[39m\u001B[38;5;28mlen\u001B[39m(sp_2[\u001B[38;5;241m0\u001B[39m:i\u001B[38;5;241m+\u001B[39m\u001B[38;5;28mlen\u001B[39m(sp_2)\u001B[38;5;241m-\u001B[39mlag]):\n\u001B[0;32m     32\u001B[0m         r[i],p[i] \u001B[38;5;241m=\u001B[39m pearsonr(total_matrix[i,lag:i \u001B[38;5;241m+\u001B[39m \u001B[38;5;28mlen\u001B[39m(sp_1)],sp_2[:i\u001B[38;5;241m+\u001B[39m\u001B[38;5;28mlen\u001B[39m(sp_2)\u001B[38;5;241m-\u001B[39mlag])\n",
      "\u001B[1;31mKeyboardInterrupt\u001B[0m: "
     ]
    }
   ],
   "source": [
    "HS_list = [44,45,47,48,50,54,71,73,76,78]\n",
    "clean_data_path = \"D:/BaiduSyncdisk/code\"\n",
    "pairs_sound_avg(75,HS_list,clean_data_path)"
   ],
   "metadata": {
    "collapsed": false,
    "ExecuteTime": {
     "end_time": "2023-10-29T17:26:30.663477700Z",
     "start_time": "2023-10-29T17:25:19.872792700Z"
    }
   },
   "id": "1b3b158011a2611a"
  },
  {
   "cell_type": "code",
   "execution_count": null,
   "outputs": [],
   "source": [],
   "metadata": {
    "collapsed": false
   },
   "id": "e056f4179c1a7b57"
  }
 ],
 "metadata": {
  "kernelspec": {
   "display_name": "Python 3",
   "language": "python",
   "name": "python3"
  },
  "language_info": {
   "codemirror_mode": {
    "name": "ipython",
    "version": 2
   },
   "file_extension": ".py",
   "mimetype": "text/x-python",
   "name": "python",
   "nbconvert_exporter": "python",
   "pygments_lexer": "ipython2",
   "version": "2.7.6"
  }
 },
 "nbformat": 4,
 "nbformat_minor": 5
}
