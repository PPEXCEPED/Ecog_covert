{
 "cells": [
  {
   "cell_type": "markdown",
   "metadata": {},
   "source": [
    "USE SVM TO DO THE BINARY CLASSIFICATION TASK"
   ]
  },
  {
   "cell_type": "markdown",
   "metadata": {},
   "source": [
    "USE STFT OF TRIALS"
   ]
  },
  {
   "cell_type": "code",
   "execution_count": 2,
   "metadata": {},
   "outputs": [],
   "source": [
    "import numpy as np\n",
    "from sklearn.model_selection import cross_val_score, KFold\n",
    "from sklearn.svm import SVC\n",
    "from sklearn.preprocessing import StandardScaler\n",
    "import os\n",
    "from sklearn.model_selection import GridSearchCV,train_test_split\n",
    "from sklearn.metrics import classification_report, accuracy_score"
   ]
  },
  {
   "cell_type": "code",
   "execution_count": 3,
   "metadata": {},
   "outputs": [],
   "source": [
    "PATH='/public/DATA/overt_reading/dataset'\n",
    "# /public/DATA/overt_reading/dataset/HS86/500/"
   ]
  },
  {
   "cell_type": "code",
   "execution_count": 4,
   "metadata": {},
   "outputs": [],
   "source": [
    "HS=86\n",
    "freq=500\n",
    "elec=7"
   ]
  },
  {
   "cell_type": "markdown",
   "metadata": {},
   "source": [
    "还是应该单电极但文件夹存储文件 因为有些block数是5有些是6"
   ]
  },
  {
   "cell_type": "code",
   "execution_count": 5,
   "metadata": {},
   "outputs": [],
   "source": [
    "block_num=6"
   ]
  },
  {
   "cell_type": "code",
   "execution_count": 6,
   "metadata": {},
   "outputs": [
    {
     "name": "stdout",
     "output_type": "stream",
     "text": [
      "x_train shape: (600, 187875)\n",
      "y_train shape: (600,)\n"
     ]
    },
    {
     "ename": "",
     "evalue": "",
     "output_type": "error",
     "traceback": [
      "\u001b[1;31mThe Kernel crashed while executing code in the current cell or a previous cell. \n",
      "\u001b[1;31mPlease review the code in the cell(s) to identify a possible cause of the failure. \n",
      "\u001b[1;31mClick <a href='https://aka.ms/vscodeJupyterKernelCrash'>here</a> for more info. \n",
      "\u001b[1;31mView Jupyter <a href='command:jupyter.viewOutput'>log</a> for further details."
     ]
    }
   ],
   "source": [
    "X_cue,X_read=[],[]\n",
    "y_cue,y_read=[],[]\n",
    "for block in range(block_num):\n",
    "    path_elec_cue=os.path.join(PATH,f'HS{HS}/{freq}/{elec}/elec{elec}_{block}_data_block_cue.npy')\n",
    "    path_elec_read=os.path.join(PATH,f'HS{HS}/{freq}/{elec}/elec{elec}_{block}_data_block_read.npy')\n",
    "\n",
    "    cue=np.load(path_elec_cue)\n",
    "    read=np.load(path_elec_read)[:,:,:cue.shape[2]]\n",
    "\n",
    "    X_cue.append(cue)\n",
    "    X_read.append(read)\n",
    "\n",
    "X_cue=np.vstack(X_cue)\n",
    "X_read=np.vstack(X_read)\n",
    "\n",
    "y_cue=np.array([0]*X_cue.shape[0])\n",
    "y_read=np.array([1]*X_read.shape[0])\n",
    "\n",
    "X=np.concatenate((X_cue,X_read),axis=0)\n",
    "y=np.concatenate((y_cue,y_read),axis=0)\n",
    "X=np.abs(X)\n",
    "y=np.abs(y)\n",
    "\n",
    "\n",
    "X_flat=X.reshape(X.shape[0],-1)\n",
    "# print(X.shape, X_flat.shape) # (720, 501, 375) (720, 187875)\n",
    "X_train, X_test, y_train, y_test = train_test_split(X_flat, y, test_size=1/6, random_state=42)\n",
    "print(f\"x_train shape: {X_train.shape}\")\n",
    "print(f\"y_train shape: {y_train.shape}\")\n",
    "\n",
    "tuned_parameters = [{'kernel': ['rbf', 'linear'], 'C': [0.001, 0.01, 0.1, 1, 10], 'gamma': [0.1, 0.01, 0.001]}]\n",
    "\n",
    "# 创建GridSearchCV对象\n",
    "clf = GridSearchCV(SVC(), tuned_parameters, cv=5, scoring='accuracy')\n",
    "clf.fit(X_train, y_train)\n",
    "\n",
    "# 输出最佳参数\n",
    "print(\"Best parameters set found on development set:\")\n",
    "print(clf.best_params_)\n",
    "\n",
    "# 使用最佳参数在测试集上进行评估\n",
    "y_pred = clf.predict(X_test)\n",
    "\n",
    "# 输出详细的分类报告和准确率\n",
    "print(\"Detailed classification report:\")\n",
    "print(classification_report(y_test, y_pred))\n",
    "print(\"Accuracy on test set:\")\n",
    "print(accuracy_score(y_test, y_pred))\n"
   ]
  },
  {
   "cell_type": "code",
   "execution_count": 6,
   "metadata": {},
   "outputs": [],
   "source": [
    "a=np.zeros((2,10))\n",
    "b=np.zeros((2,10))\n",
    "c=[a,b]\n",
    "c=np.vstack(c)"
   ]
  },
  {
   "cell_type": "code",
   "execution_count": 7,
   "metadata": {},
   "outputs": [
    {
     "data": {
      "text/plain": [
       "(4, 10)"
      ]
     },
     "execution_count": 7,
     "metadata": {},
     "output_type": "execute_result"
    }
   ],
   "source": [
    "c.shape"
   ]
  },
  {
   "cell_type": "code",
   "execution_count": 8,
   "metadata": {},
   "outputs": [
    {
     "ename": "",
     "evalue": "",
     "output_type": "error",
     "traceback": [
      "\u001b[1;31mThe Kernel crashed while executing code in the current cell or a previous cell. \n",
      "\u001b[1;31mPlease review the code in the cell(s) to identify a possible cause of the failure. \n",
      "\u001b[1;31mClick <a href='https://aka.ms/vscodeJupyterKernelCrash'>here</a> for more info. \n",
      "\u001b[1;31mView Jupyter <a href='command:jupyter.viewOutput'>log</a> for further details."
     ]
    }
   ],
   "source": [
    "from sklearn.svm import SVC\n",
    "from sklearn.model_selection import GridSearchCV\n",
    "\n",
    "\n",
    "import numpy as np\n",
    "from sklearn.datasets import make_classification\n",
    "from sklearn.model_selection import train_test_split, GridSearchCV\n",
    "from sklearn.svm import SVC\n",
    "from sklearn.metrics import classification_report, accuracy_score\n",
    "\n",
    "# 生成模拟数据集\n",
    "X, y = make_classification(n_samples=100, n_features=20, n_informative=2, n_redundant=0, n_clusters_per_class=1, random_state=42)\n",
    "X_flat = X.reshape(X.shape[0], -1)  # 由于X已经是2D，reshape可能不是必需的\n",
    "\n",
    "# 划分数据集为训练集和测试集\n",
    "X_train, X_test, y_train, y_test = train_test_split(X_flat, y, test_size=0.25, random_state=42)\n",
    "\n",
    "# 设置SVC的参数网格\n",
    "tuned_parameters = [{'kernel': ['linear'], 'C': [1]}]\n",
    "\n",
    "# 创建GridSearchCV对象\n",
    "clf = GridSearchCV(SVC(), tuned_parameters, cv=5, scoring='accuracy')\n",
    "\n",
    "# 使用训练集数据来训练模型\n",
    "clf.fit(X_train, y_train)\n",
    "\n",
    "# 输出最佳参数\n",
    "print(\"Best parameters set found on development set:\")\n",
    "print(clf.best_params_)\n",
    "\n",
    "# 使用最佳参数在测试集上进行评估\n",
    "y_pred = clf.predict(X_test)\n",
    "\n",
    "# 输出详细的分类报告和准确率\n",
    "print(\"Detailed classification report:\")\n",
    "print(classification_report(y_test, y_pred))\n",
    "print(\"Accuracy on test set:\")\n",
    "print(accuracy_score(y_test, y_pred))\n"
   ]
  }
 ],
 "metadata": {
  "kernelspec": {
   "display_name": "pytorch",
   "language": "python",
   "name": "python3"
  },
  "language_info": {
   "codemirror_mode": {
    "name": "ipython",
    "version": 3
   },
   "file_extension": ".py",
   "mimetype": "text/x-python",
   "name": "python",
   "nbconvert_exporter": "python",
   "pygments_lexer": "ipython3",
   "version": "3.12.3"
  }
 },
 "nbformat": 4,
 "nbformat_minor": 2
}
