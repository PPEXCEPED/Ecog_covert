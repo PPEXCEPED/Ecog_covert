{
 "cells": [
  {
   "cell_type": "code",
   "execution_count": 1,
   "metadata": {},
   "outputs": [
    {
     "name": "stderr",
     "output_type": "stream",
     "text": [
      "/root/pp/covert-reading/Ecog_pretrain/ecog_band/solver.py:8: TqdmWarning: IProgress not found. Please update jupyter and ipywidgets. See https://ipywidgets.readthedocs.io/en/stable/user_install.html\n",
      "  from tqdm.autonotebook import tqdm  # may raise warning about Jupyter\n"
     ]
    }
   ],
   "source": [
    " #load Raw data from TDT ECoG maschine, plz run \"\"\n",
    "import numpy as np\n",
    "import scipy.io as scio\n",
    "from scipy import signal\n",
    "import tdt\n",
    "import os\n",
    "import  wave\n",
    "import matplotlib.pyplot as plt\n",
    "import json\n",
    "from scipy.fftpack import fft\n",
    "from random import shuffle\n",
    "import h5py\n",
    "import scipy.io as scio\n",
    "import scipy.io.wavfile\n",
    "import math\n",
    "import mne\n",
    "import os\n",
    "from multiprocessing import Pool\n",
    "from concurrent.futures import ThreadPoolExecutor\n",
    "import torch\n",
    "from torch.utils import data as Data\n",
    "import torch.nn as nn\n",
    "import seaborn as sns\n",
    "from ecog_band import EcogBandRes\n",
    "from sklearn.model_selection import KFold\n",
    "from torch.utils.data import DataLoader, Subset,Dataset\n",
    "from ecog_band.solver import Nfold_solver\n",
    "from ecog_band.models import ECOGRes50_feature,ECOGRes50\n",
    "from ecog_band.datasetSigband import CustomDatasetSigband\n",
    "from ecog_band.utils import *\n"
   ]
  },
  {
   "cell_type": "code",
   "execution_count": 2,
   "metadata": {},
   "outputs": [],
   "source": [
    "bands_list=['else1','delta','theta','alpha','beta', 'gamma','high gamma','else2']\n",
    "# bands_list=['gamma','high gamma']\n",
    "HS=86\n",
    "freq=500\n",
    "elec=7\n",
    "band = 'All_bands'\n",
    "\n",
    "best_fold_model_path = '/root/pp/covert-reading/Ecog_pretrain/best_models'\n",
    "y_save_path = f'/root/pp/covert-reading/Ecog_pretrain/Bclassification_results_resnet_shuffle/HS{HS}/{freq}/{elec}'\n",
    "contribution_save_path = f'/root/pp/covert-reading/Ecog_pretrain/Bclassification_results_resnet_shuffle/HS{HS}/{freq}/{elec}'\n",
    "\n",
    "os.makedirs(y_save_path, exist_ok=True)"
   ]
  },
  {
   "cell_type": "markdown",
   "metadata": {},
   "source": [
    "# all band do binary classification"
   ]
  },
  {
   "cell_type": "code",
   "execution_count": 3,
   "metadata": {},
   "outputs": [
    {
     "name": "stdout",
     "output_type": "stream",
     "text": [
      "torch.Size([1, 501, 375]) tensor(0)\n",
      "Fold 1\n"
     ]
    },
    {
     "name": "stderr",
     "output_type": "stream",
     "text": [
      "[Train] Epoch 1/10:   0%|          | 0/576 [00:00<?, ?block/s]"
     ]
    }
   ],
   "source": [
    "# all band do binary classification\n",
    "band = 'All_bands'\n",
    "path_elec=f'/public/DATA/overt_reading/dataset/HS86/500/{elec}'\n",
    "num_samples=len(os.listdir(path_elec)) # 12\n",
    "# print(num_samples)\n",
    "data_loader = CustomDatasetSigband(HS, path_elec, freq, elec, num_samples, exclude=True)\n",
    "net=ECOGRes50_feature()\n",
    "for batch in data_loader:\n",
    "    print(batch[0].shape,batch[1]) #[1, 1, 375] 0\n",
    "    break\n",
    "\n",
    "optimizer = torch.optim.Adam(net.parameters(), lr=0.001)\n",
    "lr_scheduler = torch.optim.lr_scheduler.ExponentialLR(optimizer=optimizer, gamma=0.95)\n",
    "\n",
    "solver = Nfold_solver(\n",
    "    model = net,\n",
    "    optimizer = optimizer,\n",
    "    criterion = nn.BCEWithLogitsLoss(),\n",
    "    lr_scheduler = lr_scheduler,\n",
    "    )\n",
    "# print(net)\n",
    "\n",
    "fold_results, fold_all_labels, fold_all_preds = solver.train(\n",
    "            epochs=10,\n",
    "            data_loader=data_loader,\n",
    "            band=band,\n",
    "            best_fold_model_path=os.path.join(best_fold_model_path,str(elec))\n",
    "            )\n",
    "# band_acc_list[band_each] = fold_results # fold_results is a list, include 5 fold accuracy, every fold accuracy is the best accuracy in validate epochs\n",
    "# plt confusion matrix\n",
    "\n",
    "all_y_true = [label for sublist in fold_all_labels for label in sublist] # merge 5 list to one\n",
    "all_y_pred = [label for sublist in fold_all_preds for label in sublist] # merge 5 list to one\n",
    "np.save(os.path.join(y_save_path, f'{band}_y_pred.npy'), all_y_pred)\n",
    "np.save(os.path.join(y_save_path, f'{band}_y_true.npy'), all_y_pred)\n"
   ]
  },
  {
   "cell_type": "markdown",
   "metadata": {},
   "source": [
    "# do binary classification on each band"
   ]
  },
  {
   "cell_type": "code",
   "execution_count": null,
   "metadata": {},
   "outputs": [],
   "source": [
    "# five fold for each band\n",
    "band_acc_list = {} # 存储每一个band的五次交叉验证最好的结果\n",
    "\n",
    "for band_each in bands_list:\n",
    "    path_elec=f'/public/DATA/overt_reading/dataset/HS86/500/{elec}'\n",
    "    num_samples=len(os.listdir(path_elec)) # 12\n",
    "    # print(num_samples)\n",
    "    data_loader = CustomDatasetSigband(HS, path_elec, freq, elec, num_samples, band_each, exclude=True)\n",
    "    for batch in data_loader:\n",
    "        print(batch[0].shape,batch[1]) #[1, 1, 375] 0\n",
    "        break\n",
    "\n",
    "    net=ECOGRes50_feature()\n",
    "\n",
    "    optimizer = torch.optim.Adam(net.parameters(), lr=0.001)\n",
    "    lr_scheduler = torch.optim.lr_scheduler.ExponentialLR(optimizer=optimizer, gamma=0.95)\n",
    "\n",
    "    solver = Nfold_solver(\n",
    "        model = net,\n",
    "        optimizer = optimizer,\n",
    "        criterion = nn.BCEWithLogitsLoss(),\n",
    "        lr_scheduler = lr_scheduler,\n",
    "        )\n",
    "    # print(net)\n",
    "\n",
    "    fold_results, fold_all_labels, fold_all_preds = solver.train(\n",
    "                epochs=10,\n",
    "                data_loader=data_loader,\n",
    "                band=band_each,\n",
    "                best_fold_model_path=os.path.join(best_fold_model_path,str(elec))\n",
    "                )\n",
    "    band_acc_list[band_each] = fold_results # fold_results is a list, include 5 fold accuracy, every fold accuracy is the best accuracy in validate epochs\n",
    "    # plt confusion matrix\n",
    "    all_y_true = [label for sublist in fold_all_labels for label in sublist] # merge 5 list to one\n",
    "    all_y_pred = [label for sublist in fold_all_preds for label in sublist] # merge 5 list to one\n",
    "    np.save(os.path.join(y_save_path, f'{band_each}_y_pred.npy'), all_y_pred)\n",
    "    np.save(os.path.join(y_save_path, f'{band_each}_y_true.npy'), all_y_true)\n",
    "    plt_confusion_matrix_sum(all_y_true, all_y_pred, band_each)\n",
    "    \n",
    "pltbox_band_five_cross_validation(band_acc_list)\n",
    "# plt_band_acc(band_acc_list)\n",
    "\n",
    "# write fold resultes into file\n",
    "# save_path = f'/root/pp/covert-reading/Ecog_pretrain/fold_results/HS{HS}/{freq}/{elec}'\n",
    "# save_band_classify_acc(band_acc_list, save_path)\n"
   ]
  },
  {
   "cell_type": "code",
   "execution_count": null,
   "metadata": {},
   "outputs": [],
   "source": [
    "# show accuracy for each band\n",
    "from ecog_band.utils import pltbar_accuracy\n",
    "accuracy = []\n",
    "for band in bands_list:\n",
    "    accuracy.append(cal_acc_band1_from_y(y_save_path, band))\n",
    "pltbar_accuracy(accuracy, bands_list, removed=True)"
   ]
  },
  {
   "cell_type": "markdown",
   "metadata": {},
   "source": [
    "# calculate contribution for each band"
   ]
  },
  {
   "cell_type": "code",
   "execution_count": null,
   "metadata": {},
   "outputs": [],
   "source": [
    "# calculate contribution for each band\n",
    "baseline_accuracy = cal_acc_band1_from_y(y_save_path, 'All_bands')\n",
    "contributions_list = []\n",
    "\n",
    "for band in bands_list:\n",
    "    # print(band)\n",
    "    badn_acc = cal_acc_band1_from_y(y_save_path, band)\n",
    "    contribution = baseline_accuracy - badn_acc\n",
    "    print(f'band: {band}, contribution_acc:{contribution}')\n",
    "    contributions_list.append(contribution)\n",
    "\n",
    "np.save(os.path.join(contribution_save_path, f'contributions.npy'), contributions_list)"
   ]
  },
  {
   "cell_type": "code",
   "execution_count": null,
   "metadata": {},
   "outputs": [],
   "source": [
    "# plt contribution bar\n",
    "contribution_list = np.load(os.path.join(contribution_save_path, f'contributions.npy'))\n",
    "pltbar_contribution(contribution_list, bands_list)"
   ]
  },
  {
   "cell_type": "code",
   "execution_count": null,
   "metadata": {},
   "outputs": [],
   "source": [
    "# plot all confusion matrix on one graph\n",
    "cm = {}\n",
    "for band in bands_list:\n",
    "    cm[band] = cal_cm_band1_from_y(y_save_path, band)\n",
    "\n",
    "plt_allband_confusion_matrices(cm, bands_list)"
   ]
  }
 ],
 "metadata": {
  "kernelspec": {
   "display_name": "ecog",
   "language": "python",
   "name": "python3"
  },
  "language_info": {
   "codemirror_mode": {
    "name": "ipython",
    "version": 3
   },
   "file_extension": ".py",
   "mimetype": "text/x-python",
   "name": "python",
   "nbconvert_exporter": "python",
   "pygments_lexer": "ipython3",
   "version": "3.12.3"
  }
 },
 "nbformat": 4,
 "nbformat_minor": 2
}
