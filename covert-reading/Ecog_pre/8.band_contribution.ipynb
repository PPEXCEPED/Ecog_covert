{
 "cells": [
  {
   "cell_type": "code",
   "execution_count": 2,
   "metadata": {},
   "outputs": [],
   "source": [
    " #load Raw data from TDT ECoG maschine, plz run \"\"\n",
    "import numpy as np\n",
    "import scipy.io as scio\n",
    "from scipy import signal\n",
    "import tdt\n",
    "import os\n",
    "import  wave\n",
    "import matplotlib.pyplot as plt\n",
    "import json\n",
    "from scipy.fftpack import fft\n",
    "from random import shuffle\n",
    "import h5py\n",
    "import scipy.io as scio\n",
    "import scipy.io.wavfile\n",
    "import math\n",
    "import mne\n",
    "import os\n",
    "from multiprocessing import Pool\n",
    "from concurrent.futures import ThreadPoolExecutor\n",
    "import torch\n",
    "from torch.utils import data as Data\n",
    "import torch.nn as nn\n",
    "import seaborn as sns\n",
    "from ecog_band import EcogBandRes\n",
    "from sklearn.model_selection import KFold\n",
    "from torch.utils.data import DataLoader, Subset,Dataset\n",
    "from ecog_band.solver import Nfold_solver\n",
    "from ecog_band.models import ECOGRes50_feature,ECOGRes50\n",
    "from ecog_band.utils import pltbox_band_five_cross_validation, save_band_classify_acc, plt_confusion_matrix_sum"
   ]
  }
 ],
 "metadata": {
  "kernelspec": {
   "display_name": "ecog",
   "language": "python",
   "name": "python3"
  },
  "language_info": {
   "codemirror_mode": {
    "name": "ipython",
    "version": 3
   },
   "file_extension": ".py",
   "mimetype": "text/x-python",
   "name": "python",
   "nbconvert_exporter": "python",
   "pygments_lexer": "ipython3",
   "version": "3.12.3"
  }
 },
 "nbformat": 4,
 "nbformat_minor": 2
}
