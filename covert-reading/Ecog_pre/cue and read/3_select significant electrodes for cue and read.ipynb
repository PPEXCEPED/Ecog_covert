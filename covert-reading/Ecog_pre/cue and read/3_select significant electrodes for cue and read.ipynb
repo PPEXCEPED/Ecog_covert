{
 "cells": [
  {
   "cell_type": "markdown",
   "metadata": {},
   "source": [
    "# select significant electrodes for cue and read task"
   ]
  },
  {
   "cell_type": "code",
   "execution_count": 1,
   "metadata": {},
   "outputs": [],
   "source": [
    "import numpy as np\n",
    "from scipy import stats\n",
    "import os\n",
    "bands_list = ['theta', 'alpha', 'beta1', 'beta2', 'low gamma', 'high gamma']\n",
    "freq_list=[400]\n",
    "HS_list=[68, 69, 75, 79, 82, 83, 84, 85, 86]"
   ]
  },
  {
   "cell_type": "code",
   "execution_count": 2,
   "metadata": {},
   "outputs": [],
   "source": [
    "def load_band_data(data_path, HS, band):\n",
    "    keys = ['功课', '力果', '宫客', '作业', 'gōng kè', '树叶', '对十', '数页', '绿草', 'shù yè']\n",
    "\n",
    "    # 加载每个 band 的 block 数据\n",
    "    file_path = os.path.join(data_path, f\"HS{HS}block_{band}.npy\")\n",
    "    block_data = np.load(file_path, allow_pickle=True).item()\n",
    "\n",
    "    for key in keys:\n",
    "        if key in block_data:\n",
    "            data = block_data[key]  # data 是一个长度为 256 的列表，每个元素 shape 为 (time2200, trials)\n",
    "            reshaped_data = np.array([elec_data.T for elec_data in data])  # (electrodes, trials, time)\n",
    "            reshaped_data = reshaped_data.transpose(1, 0, 2)  # (trials, electrodes, time)\n",
    "    \n",
    "    return reshaped_data\n",
    "                \n",
    "import numpy as np\n",
    "from scipy import stats\n",
    "\n",
    "def calculate_p_values(ecogReading_task):\n",
    "    \"\"\"\n",
    "    计算每个电极在每个时间点的 p 值。\n",
    "    参数:\n",
    "    - ecogReading_task: numpy.ndarray, shape (n_trials, n_electrodes, n_times)\n",
    "    返回:\n",
    "    - p_values: numpy.ndarray, shape (n_electrodes, n_times)\n",
    "    \"\"\"\n",
    "    # 获取形状信息\n",
    "    n_trials, n_electrodes, n_times = ecogReading_task.shape\n",
    "\n",
    "    # 定义基线时间窗（例如 -200ms 到 0ms 对应的时间点范围）\n",
    "    start = int(1 * 400 - 0.2 * 400)  # 转换到采样点\n",
    "    end = start + 80\n",
    "    p_values = np.zeros((n_electrodes, n_times))\n",
    "\n",
    "    for electrode_idx in range(n_electrodes):\n",
    "        electrode_data = ecogReading_task[:, electrode_idx, :]\n",
    "        baseline = electrode_data[:, start:end].reshape(-1)\n",
    "        for time_idx in range(400, n_times):\n",
    "            current_data = electrode_data[:, time_idx]\n",
    "            baseline_valid = baseline[~np.isnan(baseline)]\n",
    "            current_data_valid = current_data[~np.isnan(current_data)]\n",
    "            if len(current_data_valid) > 0 and len(baseline_valid) > 0:\n",
    "                p_values[electrode_idx, time_idx] = stats.ttest_ind(\n",
    "                    baseline_valid, current_data_valid, alternative='less'\n",
    "                ).pvalue\n",
    "            else:\n",
    "                p_values[electrode_idx, time_idx] = np.nan\n",
    "                \n",
    "    return p_values\n"
   ]
  },
  {
   "cell_type": "code",
   "execution_count": null,
   "metadata": {},
   "outputs": [],
   "source": [
    "base_path = '/public/DATA/overt_reading/Blocked_data/'  # 数据基础路径\n",
    "save_base_path = '/public/DATA/overt_reading/t-test_results/'\n",
    "for HS in HS_list:\n",
    "    os.makedirs(os.path.join(save_base_path, f'HS{HS}'), exist_ok=True)\n",
    "    band_p_values = {}\n",
    "    for band in bands_list:\n",
    "        band_ecog_data = load_band_data(base_path, HS, band)\n",
    "        p_value = calculate_p_values(band_ecog_data)\n",
    "        band_p_values[band] = p_value\n",
    "    np.save(os.path.join(save_base_path, f'HS{HS}/allband_p_values.npy'), band_p_values)"
   ]
  }
 ],
 "metadata": {
  "kernelspec": {
   "display_name": "ecog",
   "language": "python",
   "name": "python3"
  },
  "language_info": {
   "codemirror_mode": {
    "name": "ipython",
    "version": 3
   },
   "file_extension": ".py",
   "mimetype": "text/x-python",
   "name": "python",
   "nbconvert_exporter": "python",
   "pygments_lexer": "ipython3",
   "version": "3.12.3"
  }
 },
 "nbformat": 4,
 "nbformat_minor": 2
}
