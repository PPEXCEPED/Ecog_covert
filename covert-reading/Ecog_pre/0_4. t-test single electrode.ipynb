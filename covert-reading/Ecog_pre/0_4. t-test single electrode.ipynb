{
 "cells": [
  {
   "cell_type": "code",
   "execution_count": 1,
   "metadata": {},
   "outputs": [
    {
     "name": "stderr",
     "output_type": "stream",
     "text": [
      "/root/pp/covert-reading/Ecog_pretrain/ecog_band/solver.py:8: TqdmWarning: IProgress not found. Please update jupyter and ipywidgets. See https://ipywidgets.readthedocs.io/en/stable/user_install.html\n",
      "  from tqdm.autonotebook import tqdm  # may raise warning about Jupyter\n"
     ]
    }
   ],
   "source": [
    "import numpy as np\n",
    "from ecog_band.utils import *\n",
    "import pandas as pd\n",
    "import numpy as np\n",
    "import scipy.io as scio\n",
    "import matplotlib.pyplot as plt\n",
    "import matplotlib.image as mpimg\n",
    "from matplotlib import cm\n",
    "from matplotlib.cm import ScalarMappable\n",
    "from ecog_band.datasetAllband import SVMDataset\n",
    "from ecog_band.models import SVMBinClassifier\n",
    "import os\n",
    "from sklearn.model_selection import GridSearchCV,train_test_split\n",
    "from sklearn.metrics import classification_report, accuracy_score, precision_score, recall_score, f1_score\n",
    "from ecog_band.utils import *\n",
    "from ecog_band.solver import Nfold_solver\n",
    "import pandas as pd\n",
    "# from ecog_band.datasetExcludeBand import CustomDatasetExcband\n",
    "from sklearn.metrics import precision_score, recall_score, f1_score, classification_report, confusion_matrix\n",
    "from matplotlib.colors import Normalize\n",
    "from matplotlib.patches import Rectangle\n",
    "\n",
    "freq = 500\n",
    "HS = 69\n",
    "elec = 74\n",
    "\n",
    "path_elec = f'/public/DATA/overt_reading/dataset_/HS{HS}/{freq}/{elec}'\n",
    "num_samples = len(os.listdir(path_elec))"
   ]
  },
  {
   "cell_type": "code",
   "execution_count": 2,
   "metadata": {},
   "outputs": [],
   "source": [
    "def expanded_data(data, expand_size):# 扩展baseline数据\n",
    "    data_0 = data[0]\n",
    "    expanded_data_0 = np.expand_dims(data_0, axis=0)\n",
    "    expanded_data = np.tile(expanded_data_0, (expand_size, 1, 1))\n",
    "    return expanded_data"
   ]
  },
  {
   "cell_type": "code",
   "execution_count": 3,
   "metadata": {},
   "outputs": [
    {
     "name": "stdout",
     "output_type": "stream",
     "text": [
      "(360, 501, 375)\n",
      "(360, 501, 375)\n",
      "(360, 501, 375)\n",
      "(501, 375)\n",
      "(501, 375)\n"
     ]
    }
   ],
   "source": [
    "data_read = []\n",
    "data_cue = []\n",
    "baseline_data = []\n",
    "\n",
    "for num in range(num_samples): # num为块的个数\n",
    "    cue_path = os.path.join(path_elec, f'{num}_data_block_cue.npy')\n",
    "    read_path = os.path.join(path_elec, f'{num}_data_block_read.npy')\n",
    "    baseline_path = os.path.join(path_elec, f'{num}_baseline_block_cue.npy')\n",
    "    # print(cue_path)\n",
    "    if os.path.exists(cue_path) and os.path.exists(read_path):\n",
    "        elec_cue = np.load(cue_path) # (n_task, n_freq, n_timePoint) (60, 501, 375)\n",
    "        elec_read = np.load(read_path)\n",
    "        elec_base = np.load(baseline_path)\n",
    "\n",
    "        data_cue.append(elec_cue)\n",
    "        data_read.append(elec_read)\n",
    "        baseline_data.append(expanded_data(elec_base, len(elec_cue)))\n",
    "\n",
    "\n",
    "data_cue=np.abs(np.vstack(data_cue))\n",
    "data_read=np.abs(np.vstack(data_read))\n",
    "baseline_data=np.abs(np.vstack(baseline_data))\n",
    "\n",
    "print(data_cue.shape)\n",
    "print(data_read.shape)\n",
    "print(baseline_data.shape)\n",
    "\n",
    "#average\n",
    "cue_mean = np.mean(data_cue, axis=0)\n",
    "read_mean = np.mean(data_read, axis=0)\n",
    "print(cue_mean.shape)\n",
    "print(read_mean.shape)\n"
   ]
  },
  {
   "cell_type": "code",
   "execution_count": 4,
   "metadata": {},
   "outputs": [],
   "source": [
    "def plt_tf(stft_data, title, ax):\n",
    "    n_freqs = stft_data.shape[0]\n",
    "    freqs = np.linspace(0, 500, stft_data.shape[0])\n",
    "    step = max(1, n_freqs // 10)  # 选择每隔多少个频率 bin 显示一个刻度\n",
    "    ticks = np.arange(0, n_freqs, step)\n",
    "    labels = [f'{freqs[i]:.1f}' for i in ticks]\n",
    "    # plt.figure(figsize=(12, 6))\n",
    "    cax  = ax.imshow(stft_data, aspect='auto', origin='lower', cmap='viridis')\n",
    "    ax.set_title(f'Time-Frequency - {title}')\n",
    "    ax.set_xlabel('Time')\n",
    "    ax.set_ylabel('Frequency')\n",
    "    ax.set_yticks(ticks)\n",
    "    ax.set_yticklabels(labels)\n",
    "\n",
    "    return cax"
   ]
  },
  {
   "cell_type": "code",
   "execution_count": 5,
   "metadata": {},
   "outputs": [],
   "source": [
    "# z-score before t-test\n",
    "def z_score_standardize(X, X_base):\n",
    "    \"\"\"计算 z-score 标准化\"\"\"\n",
    "    mean_X = np.mean(X_base, axis=0)  # 计算基线数据的均值\n",
    "    std_X = np.std(X_base, axis=0)    # 计算基线数据的标准差\n",
    "    return (X - mean_X) / std_X"
   ]
  },
  {
   "cell_type": "code",
   "execution_count": 6,
   "metadata": {},
   "outputs": [],
   "source": [
    "data_cue_norm = z_score_standardize(data_cue, baseline_data)\n",
    "data_read_norm = z_score_standardize(data_read, baseline_data)\n",
    "cue_mean = np.mean(data_cue_norm, axis=0)\n",
    "read_mean = np.mean(data_read_norm, axis=0)\n",
    "\n",
    "fig, axs = plt.subplots(1, 2, figsize=(20, 10))\n",
    "cax_cue = plt_tf(cue_mean, f'Cue - elec{elec}', axs[0])\n",
    "cax_read = plt_tf(read_mean, f'Read - elec{elec}', axs[1])\n",
    "plt.tight_layout()\n",
    "plt.show()"
   ]
  },
  {
   "cell_type": "code",
   "execution_count": null,
   "metadata": {},
   "outputs": [
    {
     "name": "stdout",
     "output_type": "stream",
     "text": [
      "(360, 501, 375) (360, 501, 375)\n",
      "0 0\n"
     ]
    }
   ],
   "source": [
    "# t_test\n",
    "n_frequency, n_times = data_cue_norm[0].shape\n",
    "\n",
    "print(data_cue_norm.shape, data_read_norm.shape)\n",
    "print(np.isnan(data_cue_norm).sum(), np.isnan(data_read_norm).sum())\n",
    "from scipy import stats\n",
    "import numpy as np\n",
    "\n",
    "# 存储 p 值矩阵\n",
    "p_values = np.zeros((n_frequency, n_times))\n",
    "f_values = np.zeros((n_frequency, n_times))\n",
    "for f in range(n_frequency):\n",
    "    for t in range(n_times):\n",
    "        cue_vals = data_cue_norm[:, f, t]\n",
    "        read_vals = data_read_norm[:, f, t]\n",
    "        \n",
    "        if np.std(cue_vals) > 0 and np.std(read_vals) > 0:\n",
    "            f_val, p_val = stats.ttest_ind(cue_vals, read_vals, equal_var=False)\n",
    "            p_values[f, t] = p_val\n",
    "            f_values[f, t] = f_val\n",
    "        else:\n",
    "            p_values[f, t] = np.nan\n",
    "            f_values[f, t] = np.nan"
   ]
  }
 ],
 "metadata": {
  "kernelspec": {
   "display_name": "ecog",
   "language": "python",
   "name": "python3"
  },
  "language_info": {
   "codemirror_mode": {
    "name": "ipython",
    "version": 3
   },
   "file_extension": ".py",
   "mimetype": "text/x-python",
   "name": "python",
   "nbconvert_exporter": "python",
   "pygments_lexer": "ipython3",
   "version": "3.12.3"
  }
 },
 "nbformat": 4,
 "nbformat_minor": 2
}
