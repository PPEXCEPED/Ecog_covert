{
 "cells": [
  {
   "cell_type": "markdown",
   "metadata": {},
   "source": [
    "# select significant electrodes for cue and read task"
   ]
  },
  {
   "cell_type": "code",
   "execution_count": 2,
   "metadata": {},
   "outputs": [],
   "source": [
    "import numpy as np\n",
    "from scipy import stats\n",
    "import os\n",
    "bands_list = {\n",
    "    'delta': (1, 4),\n",
    "    'theta': (4, 8),\n",
    "    'alpha': (8, 12),\n",
    "    'beta': (12, 30),\n",
    "    'gamma': (30, 70),\n",
    "    'high gamma':(70,150),\n",
    "    'else2':(150,min(400/2, 300))\n",
    "}\n",
    "HS_list = [45,47,48,50,54,71,76,78,73]\n",
    "freq_list = [400]"
   ]
  },
  {
   "cell_type": "code",
   "execution_count": 3,
   "metadata": {},
   "outputs": [],
   "source": [
    "def load_band_data(path, HS, freq, band):\n",
    "    lowfreq, highfreq = bands_list[band]\n",
    "    block_data = np.load(os.path.join(path, f'HS{HS}/result/HS{HS}_Block_overt_covert_{int(lowfreq)}_{int(highfreq)}_{freq}hz.npy'), allow_pickle=True).item()\n",
    "    # Filter and concatenate covert data\n",
    "    covert_keys = [key for key in block_data.keys() if key.startswith('ECoG_covert_')]\n",
    "    covert_data = np.concatenate([block_data[key] for key in covert_keys], axis=0)\n",
    "\n",
    "    # Filter and concatenate overt data\n",
    "    overt_keys = [key for key in block_data.keys() if key.startswith('ECoG_overt_')]\n",
    "    overt_data = np.concatenate([block_data[key] for key in overt_keys], axis=0)\n",
    "\n",
    "    return covert_data, overt_data\n",
    "                \n",
    "import numpy as np\n",
    "from scipy import stats\n",
    "\n",
    "def calculate_p_values(ecogReading_task):\n",
    "    \"\"\"\n",
    "    计算每个电极在每个时间点的 p 值。\n",
    "    参数:\n",
    "    - ecogReading_task: numpy.ndarray, shape (n_trials, n_electrodes, n_times)\n",
    "    返回:\n",
    "    - p_values: numpy.ndarray, shape (n_electrodes, n_times)\n",
    "    \"\"\"\n",
    "    # 获取形状信息\n",
    "    n_trials, n_electrodes, n_times = ecogReading_task.shape\n",
    "\n",
    "    # 定义基线时间窗(选取-0.2s-0s)\n",
    "    start = int(1.5 * 400 - 0.2 * 400)\n",
    "    end = start + 80\n",
    "    p_values = np.zeros((n_electrodes, n_times))\n",
    "\n",
    "    for electrode_idx in range(n_electrodes):\n",
    "        electrode_data = ecogReading_task[:, electrode_idx, :]\n",
    "        baseline = electrode_data[:, start:end].reshape(-1)\n",
    "        for time_idx in range(400, n_times):\n",
    "            current_data = electrode_data[:, time_idx]\n",
    "            baseline_valid = baseline[~np.isnan(baseline)]\n",
    "            current_data_valid = current_data[~np.isnan(current_data)]\n",
    "            if len(current_data_valid) > 0 and len(baseline_valid) > 0:\n",
    "                p_values[electrode_idx, time_idx] = stats.ttest_ind(\n",
    "                    baseline_valid, current_data_valid, alternative='less'\n",
    "                ).pvalue\n",
    "            else:\n",
    "                p_values[electrode_idx, time_idx] = np.nan\n",
    "                \n",
    "    return p_values"
   ]
  },
  {
   "cell_type": "code",
   "execution_count": null,
   "metadata": {},
   "outputs": [],
   "source": [
    "base_path = '/public/DATA/covert_reading/HS_preanalysis_ECoG'  # 数据基础路径\n",
    "save_base_path = '/public/DATA/covert_reading/t-test_results/'\n",
    "for HS in HS_list:\n",
    "    os.makedirs(os.path.join(save_base_path, f'HS{HS}'), exist_ok=True)\n",
    "    band_covert_p_values, band_overt_p_values = {}, {}\n",
    "    for band in bands_list.keys():\n",
    "        covert_data, overt_data = load_band_data(base_path, HS, 400, band)\n",
    "        covert_p_value = calculate_p_values(covert_data)\n",
    "        overt_p_value = calculate_p_values(overt_data)\n",
    "        band_covert_p_values[band] = covert_p_value\n",
    "        band_overt_p_values[band] = overt_p_value\n",
    "\n",
    "    np.save(os.path.join(save_base_path, f'HS{HS}/covert_allband_p_values.npy'), band_covert_p_values)\n",
    "    np.save(os.path.join(save_base_path, f'HS{HS}/overt_allband_p_values.npy'), band_overt_p_values)\n"
   ]
  }
 ],
 "metadata": {
  "kernelspec": {
   "display_name": "ecog",
   "language": "python",
   "name": "python3"
  },
  "language_info": {
   "codemirror_mode": {
    "name": "ipython",
    "version": 3
   },
   "file_extension": ".py",
   "mimetype": "text/x-python",
   "name": "python",
   "nbconvert_exporter": "python",
   "pygments_lexer": "ipython3",
   "version": "3.12.3"
  }
 },
 "nbformat": 4,
 "nbformat_minor": 2
}
