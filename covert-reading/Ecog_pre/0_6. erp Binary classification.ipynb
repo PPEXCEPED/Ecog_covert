{
 "cells": [
  {
   "cell_type": "code",
   "execution_count": 5,
   "metadata": {},
   "outputs": [],
   "source": [
    "import numpy as np\n",
    "from ecog_band.models import SVMBinClassifier, DecisionTreeBinClassifier, RandomForestBinClassifier, KNeighborsBinClassifier, GaussianNBBinClassifier\n",
    "import numpy as np\n",
    "from sklearn.model_selection import cross_val_score, KFold\n",
    "from sklearn.svm import SVC\n",
    "from sklearn.preprocessing import StandardScaler\n",
    "import os\n",
    "from sklearn.model_selection import GridSearchCV,train_test_split\n",
    "from sklearn.metrics import classification_report, accuracy_score, precision_score, recall_score, f1_score\n",
    "from ecog_band.utils import *\n",
    "from ecog_band.solver import Nfold_solver\n",
    "import pandas as pd\n",
    "# from ecog_band.datasetExcludeBand import CustomDatasetExcband\n",
    "from sklearn.metrics import precision_score, recall_score, f1_score, classification_report, confusion_matrix\n",
    "import torch\n",
    "from torch.utils import data as Data\n",
    "from sklearn.model_selection import GridSearchCV,train_test_split\n",
    "import torch.nn as nn\n",
    "import seaborn as sns\n",
    "from matplotlib.colors import Normalize\n",
    "from matplotlib.patches import Rectangle\n",
    "import scipy.io as scio\n",
    "import matplotlib.image as mpimg\n",
    "import matplotlib as mpl\n",
    "\n",
    "\n",
    "HS = 69\n",
    "freq = 400\n",
    "elec = 74\n",
    "bands_list = {\n",
    "    'delta': (1, 4),\n",
    "    'theta': (4, 8),\n",
    "    'alpha': (8, 12),\n",
    "    'beta': (12, 30),\n",
    "    'gamma': (30, 70),\n",
    "    'high gamma':(70,150),\n",
    "    'else2':(150,min(freq/2, 300))\n",
    "}\n",
    "mpl.rcParams['font.size'] =10"
   ]
  },
  {
   "cell_type": "markdown",
   "metadata": {},
   "source": [
    "# 使用全频段数据做binary classification"
   ]
  },
  {
   "cell_type": "code",
   "execution_count": 2,
   "metadata": {},
   "outputs": [],
   "source": [
    "class ErpDataset(Data.Dataset):\n",
    "    def __init__(self, HS, freq, elec):\n",
    "        super().__init__()\n",
    "        self.data = [] # 存Ecog数据，shape为（n_samples x n_features)\n",
    "        self.labels = [] # 存label, shape=（n_samples），cue标记为0，read标记为1\n",
    "        aligned_ecog_data_path = f'/public/DATA/overt_reading/aligned_ecogdata/HS{HS}/{freq}/allbands/'\n",
    "        num_blocks = int(len(os.listdir(aligned_ecog_data_path)) / 4)\n",
    "        print(num_blocks)\n",
    "        cue_data, read_data = [], []\n",
    "        for z in range(num_blocks):\n",
    "            data_block_cue = np.load(os.path.join(aligned_ecog_data_path, f'{str(z)}_z_cue_data.npy'))\n",
    "            data_block_read = np.load(os.path.join(aligned_ecog_data_path, f'{str(z)}_z_read_data.npy'))\n",
    "            cue_data.append(data_block_cue[:, :, int(freq*0.5):])\n",
    "            read_data.append(data_block_read[:, :, int(freq*0.5):])\n",
    "        \n",
    "        cue_data = np.vstack(cue_data)\n",
    "        read_data = np.vstack(read_data)\n",
    "        \n",
    "        X=np.concatenate((cue_data[:, elec, :], read_data[:, elec, :]),axis=0)\n",
    "        # X = X.reshape(-1, X.shape[1]*X.shape[2])\n",
    "\n",
    "        y_cue=np.array([0]*cue_data.shape[0])\n",
    "        y_read=np.array([1]*read_data.shape[0])\n",
    "        y=np.concatenate((y_cue,y_read),axis=0)\n",
    "\n",
    "        self.data = X\n",
    "        self.labels = y\n",
    "\n",
    "    def __len__(self):\n",
    "        return len(self.data)\n",
    "    \n",
    "    def get_data_labels(self):\n",
    "        return self.data, self.labels\n",
    "\n",
    "    def __getitem__(self, idx):\n",
    "        # Return a tuple of (data, label) and convert data to a PyTorch tensor\n",
    "        # print(self.data.shape)\n",
    "        return torch.tensor(abs(self.data[idx]), dtype=torch.float), torch.tensor(self.labels[idx])"
   ]
  },
  {
   "cell_type": "code",
   "execution_count": 3,
   "metadata": {},
   "outputs": [
    {
     "name": "stdout",
     "output_type": "stream",
     "text": [
      "6\n",
      "data_shape: (720, 400), data_label_shape:(720,)\n",
      "Accuracy on test set all_bands: 0.425\n"
     ]
    }
   ],
   "source": [
    "data_loader = ErpDataset(HS, freq, elec)\n",
    "data_all, labels_all = data_loader.get_data_labels()\n",
    "print(f'data_shape: {data_all.shape}, data_label_shape:{labels_all.shape}')\n",
    "\n",
    "X_train, X_test, y_train, y_test = train_test_split(data_all, labels_all, test_size=1/6, random_state=42, shuffle=True)\n",
    "# svm = DecisionTreeBinClassifier()\n",
    "svm = SVMBinClassifier()\n",
    "svm.train(x_train=X_train, y_train=y_train)\n",
    "\n",
    "y_pred = svm.evaluate(X_test=X_test, y_test=y_test)\n",
    "band_acc = accuracy_score(y_test, y_pred)\n",
    "print(f\"Accuracy on test set all_bands: {band_acc}\")"
   ]
  },
  {
   "cell_type": "markdown",
   "metadata": {},
   "source": [
    "# 使用不同频段erp做binary classification"
   ]
  },
  {
   "cell_type": "code",
   "execution_count": 3,
   "metadata": {},
   "outputs": [],
   "source": [
    "def get_band_ecogdata(HS, freq):\n",
    "    '''\n",
    "    加载已对齐的cue data和read data\n",
    "    z_band_cue_data_all：所有band的cue data，存储格式为字典{band: data, band: data, ...}\n",
    "    z_band_read_data_all：所有band的read data，存储格式为字典{band: data, band: data, ...}\n",
    "    '''\n",
    "    aligned_ecog_data_path = f'/public/DATA/overt_reading/aligned_ecogdata/HS{HS}/{freq}/bands/'\n",
    "    num_blocks = int(len(os.listdir(aligned_ecog_data_path)) / 4)\n",
    "\n",
    "    band_cue_data_all, band_read_data_all = {}, {}\n",
    "    z_band_cue_data_all, z_band_read_data_all = {}, {}\n",
    "    for band in bands_list:\n",
    "        for b in range(num_blocks):\n",
    "            data_block_cue = np.load(os.path.join(aligned_ecog_data_path, f'{str(b)}_cue_data.npy'), allow_pickle=True).item()\n",
    "            data_block_read = np.load(os.path.join(aligned_ecog_data_path, f'{str(b)}_read_data.npy'), allow_pickle=True).item()\n",
    "            z_block_cue = np.load(os.path.join(aligned_ecog_data_path, f'{str(b)}_z_cue_data.npy'), allow_pickle=True).item()\n",
    "            z_block_read = np.load(os.path.join(aligned_ecog_data_path, f'{str(b)}_z_read_data.npy'), allow_pickle=True).item()\n",
    "\n",
    "            band_cue = data_block_cue[band]\n",
    "            band_read = data_block_read[band]\n",
    "            z_band_cue = z_block_cue[band]\n",
    "            z_band_read = z_block_read[band]\n",
    "            band_cue_data_all.setdefault(band, []).append(band_cue)\n",
    "            band_read_data_all.setdefault(band, []).append(band_read)\n",
    "            z_band_cue_data_all.setdefault(band, []).append(z_band_cue)\n",
    "            z_band_read_data_all.setdefault(band, []).append(z_band_read)\n",
    "        \n",
    "        # 每一个band 对应了6个block的数据\n",
    "        # print(band_cue_data_all[band].shape)\n",
    "        band_cue_data_all[band] = np.vstack(band_cue_data_all[band])\n",
    "        _, _, shape1, shape2 = band_cue_data_all[band].shape\n",
    "        band_cue_data_all[band] = band_cue_data_all[band].reshape(-1, shape1, shape2)\n",
    "        band_read_data_all[band] = np.vstack(band_read_data_all[band]).reshape(-1, shape1, shape2)\n",
    "        z_band_cue_data_all[band] = np.vstack(z_band_cue_data_all[band]).reshape(-1, shape1, shape2)\n",
    "        z_band_read_data_all[band] = np.vstack(z_band_read_data_all[band]).reshape(-1, shape1, shape2)\n",
    "        # print(band_cue_data_all[band].shape) # (360, 256, 380)\n",
    "    return z_band_cue_data_all, z_band_read_data_all"
   ]
  },
  {
   "cell_type": "code",
   "execution_count": 4,
   "metadata": {},
   "outputs": [],
   "source": [
    "class BandErpDataset(Data.Dataset):\n",
    "    def __init__(self, z_band_cue_data_all, z_band_read_data_all, elec, band):\n",
    "        '''z_band_cue_data_all, z_band_read_data_all为所有frequency bands的数据字典，每个band对应一个任务的所有trail的数据\n",
    "        z_band_cue_data_all = {band : data(shape = n_trails, n_electrodes, n_timepoints)}\n",
    "        '''\n",
    "        super().__init__()\n",
    "        self.data = [] # 存Ecog数据，shape为（n_samples x n_features)\n",
    "        self.labels = [] # 存label, shape=（n_samples），cue标记为0，read标记为1\n",
    "        # load aligned data and plot average signal\n",
    "        cue_data = z_band_cue_data_all[band]\n",
    "        read_data = z_band_read_data_all[band] \n",
    "\n",
    "        X=np.concatenate((cue_data[:, elec, :], read_data[:, elec, :]),axis=0)\n",
    "        # X = X.reshape(-1, X.shape[1]*X.shape[2])\n",
    "\n",
    "        y_cue=np.array([0]*cue_data.shape[0])\n",
    "        y_read=np.array([1]*read_data.shape[0])\n",
    "        y=np.concatenate((y_cue,y_read),axis=0)\n",
    "\n",
    "        self.data = X\n",
    "        self.labels = y\n",
    "\n",
    "    def __len__(self):\n",
    "        return len(self.data)\n",
    "    \n",
    "    def get_data_labels(self):\n",
    "        return self.data, self.labels\n",
    "\n",
    "    def __getitem__(self, idx):\n",
    "        # Return a tuple of (data, label) and convert data to a PyTorch tensor\n",
    "        # print(self.data.shape)\n",
    "        return torch.tensor(abs(self.data[idx]), dtype=torch.float), torch.tensor(self.labels[idx])"
   ]
  },
  {
   "cell_type": "code",
   "execution_count": 4,
   "metadata": {},
   "outputs": [
    {
     "name": "stdout",
     "output_type": "stream",
     "text": [
      "data_shape: (720, 380), data_label_shape:(720,)\n",
      "Accuracy on delta test set: 0.6333333333333333\n",
      "data_shape: (720, 380), data_label_shape:(720,)\n",
      "Accuracy on theta test set: 0.6\n",
      "data_shape: (720, 380), data_label_shape:(720,)\n",
      "Accuracy on alpha test set: 0.5333333333333333\n",
      "data_shape: (720, 380), data_label_shape:(720,)\n",
      "Accuracy on beta test set: 0.5166666666666667\n",
      "data_shape: (720, 380), data_label_shape:(720,)\n",
      "Accuracy on gamma test set: 0.5416666666666666\n",
      "data_shape: (720, 380), data_label_shape:(720,)\n",
      "Accuracy on high gamma test set: 0.6\n",
      "data_shape: (720, 380), data_label_shape:(720,)\n",
      "Accuracy on else2 test set: 0.43333333333333335\n"
     ]
    },
    {
     "data": {
      "image/png": "[encoded data removed]",
      "text/plain": [
       "<Figure size 1200x600 with 1 Axes>"
      ]
     },
     "metadata": {},
     "output_type": "display_data"
    }
   ],
   "source": [
    "z_band_cue_data_all, z_band_read_data_all = get_band_ecogdata(HS, freq)\n",
    "accuracyList = {}\n",
    "for band in bands_list:\n",
    "    data_loader = BandErpDataset(z_band_cue_data_all, z_band_read_data_all, elec, band)\n",
    "    data_all, labels_all = data_loader.get_data_labels()\n",
    "    print(f'data_shape: {data_all.shape}, data_label_shape:{labels_all.shape}')\n",
    "\n",
    "    X_train, X_test, y_train, y_test = train_test_split(data_all, labels_all, test_size=1/6, random_state=42, shuffle=True)\n",
    "    # svm = DecisionTreeBinClassifier()\n",
    "    svm = SVMBinClassifier()\n",
    "    svm.train(x_train=X_train, y_train=y_train)\n",
    "\n",
    "    y_pred = svm.evaluate(X_test=X_test, y_test=y_test)\n",
    "    band_acc = accuracy_score(y_test, y_pred)\n",
    "    accuracyList[band] = band_acc\n",
    "    \n",
    "    print(f\"Accuracy on {band} test set: {band_acc}\")\n",
    "plt_band_acc(accuracyList)"
   ]
  },
  {
   "cell_type": "markdown",
   "metadata": {},
   "source": [
    "# 计算不同frequency bands的所有电极的accuracy，并可视化到脑表面\n",
    "## 1. 计算不同frequency bands的accuracy"
   ]
  },
  {
   "cell_type": "code",
   "execution_count": 17,
   "metadata": {},
   "outputs": [],
   "source": [
    "def cal_bc_sig_HS_band(HS, freq, bands_list, elec_list, z_band_cue_data_all, z_band_read_data_all):\n",
    "    bands_acc = {}\n",
    "    for band in bands_list:\n",
    "        band_elec_acc = []\n",
    "        for i, elec in enumerate(elec_list):\n",
    "            data_loader = BandErpDataset(z_band_cue_data_all, z_band_read_data_all, elec, band)\n",
    "            data_all, labels_all = data_loader.get_data_labels()\n",
    "            # print(f'data_shape: {data_all.shape}, data_label_shape:{labels_all.shape}')\n",
    "\n",
    "            X_train, X_test, y_train, y_test = train_test_split(data_all, labels_all, test_size=1/6, random_state=42, shuffle=True)\n",
    "            # svm = DecisionTreeBinClassifier()\n",
    "            svm = SVMBinClassifier()\n",
    "            svm.train(x_train=X_train, y_train=y_train)\n",
    "\n",
    "            y_pred = svm.evaluate(X_test=X_test, y_test=y_test)\n",
    "            elec_acc = accuracy_score(y_test, y_pred)\n",
    "            band_elec_acc.append(elec_acc)\n",
    "        bands_acc[band] = band_elec_acc\n",
    "        print(f'Accuracy for HS{HS}-freq{freq} on {band} band is Done! acc_list={band_elec_acc}')\n",
    "    \n",
    "    return bands_acc\n",
    "            \n"
   ]
  },
  {
   "cell_type": "code",
   "execution_count": 18,
   "metadata": {},
   "outputs": [
    {
     "name": "stdout",
     "output_type": "stream",
     "text": [
      "Accuracy for HS69-freq400 on delta band is Done! acc_list=[0.43333333333333335, 0.4166666666666667, 0.4166666666666667, 0.4166666666666667, 0.4083333333333333, 0.425, 0.475, 0.55, 0.5583333333333333, 0.475, 0.425, 0.425, 0.425, 0.425, 0.425, 0.425, 0.425, 0.43333333333333335, 0.4666666666666667, 0.425, 0.425, 0.4083333333333333, 0.4166666666666667, 0.425, 0.4666666666666667, 0.45, 0.43333333333333335, 0.44166666666666665, 0.4166666666666667, 0.4083333333333333, 0.425, 0.4166666666666667, 0.4166666666666667, 0.44166666666666665, 0.44166666666666665, 0.425, 0.4166666666666667, 0.425, 0.4083333333333333, 0.43333333333333335, 0.48333333333333334, 0.5333333333333333, 0.55, 0.5166666666666667, 0.5333333333333333, 0.49166666666666664, 0.4666666666666667, 0.49166666666666664, 0.4583333333333333, 0.425, 0.425, 0.475, 0.4166666666666667, 0.45, 0.5333333333333333, 0.5833333333333334, 0.6166666666666667, 0.6166666666666667, 0.625, 0.6166666666666667, 0.575, 0.425, 0.425, 0.4166666666666667, 0.43333333333333335, 0.425, 0.4166666666666667, 0.4166666666666667, 0.5083333333333333, 0.4666666666666667, 0.5083333333333333, 0.5583333333333333, 0.5916666666666667, 0.65, 0.65, 0.6333333333333333, 0.6333333333333333, 0.625, 0.5833333333333334, 0.44166666666666665, 0.425, 0.425, 0.4166666666666667, 0.4166666666666667, 0.4083333333333333, 0.425, 0.55, 0.55, 0.55, 0.55, 0.5666666666666667, 0.6083333333333333, 0.6416666666666667, 0.48333333333333334, 0.475, 0.4166666666666667, 0.4166666666666667, 0.4166666666666667, 0.425, 0.425, 0.425, 0.4166666666666667, 0.43333333333333335, 0.48333333333333334, 0.5166666666666667, 0.5, 0.48333333333333334, 0.4166666666666667, 0.4166666666666667, 0.4083333333333333, 0.4166666666666667, 0.4, 0.43333333333333335, 0.4166666666666667, 0.4166666666666667, 0.4166666666666667, 0.425, 0.425, 0.43333333333333335, 0.43333333333333335, 0.43333333333333335, 0.425, 0.425, 0.425, 0.44166666666666665, 0.43333333333333335, 0.425, 0.38333333333333336, 0.39166666666666666, 0.475, 0.425, 0.39166666666666666, 0.425, 0.475, 0.45, 0.45, 0.45, 0.425, 0.4083333333333333, 0.4166666666666667, 0.4166666666666667, 0.4166666666666667, 0.4166666666666667, 0.43333333333333335, 0.44166666666666665, 0.43333333333333335, 0.44166666666666665, 0.425, 0.43333333333333335, 0.475, 0.525, 0.55, 0.4583333333333333, 0.5, 0.5416666666666666, 0.4583333333333333, 0.4, 0.5583333333333333, 0.575, 0.5583333333333333, 0.525, 0.475, 0.4166666666666667, 0.4166666666666667, 0.425, 0.425, 0.425, 0.45, 0.45, 0.43333333333333335, 0.425, 0.45, 0.43333333333333335, 0.38333333333333336, 0.4, 0.375, 0.4083333333333333, 0.43333333333333335, 0.425, 0.425, 0.425, 0.43333333333333335, 0.43333333333333335, 0.425, 0.425, 0.4166666666666667, 0.45, 0.45, 0.45, 0.4166666666666667, 0.44166666666666665, 0.43333333333333335, 0.425, 0.425, 0.425, 0.43333333333333335, 0.48333333333333334, 0.44166666666666665, 0.45, 0.475, 0.45, 0.425, 0.5, 0.48333333333333334, 0.4666666666666667, 0.4583333333333333, 0.43333333333333335, 0.44166666666666665, 0.4166666666666667, 0.425, 0.5, 0.475, 0.48333333333333334, 0.44166666666666665, 0.425, 0.44166666666666665, 0.425, 0.425, 0.5, 0.4666666666666667, 0.475, 0.48333333333333334, 0.4583333333333333, 0.425, 0.425, 0.4583333333333333, 0.5, 0.5416666666666666, 0.49166666666666664, 0.5166666666666667, 0.49166666666666664, 0.43333333333333335, 0.425, 0.475, 0.44166666666666665, 0.43333333333333335, 0.4666666666666667, 0.44166666666666665, 0.45, 0.4166666666666667, 0.4166666666666667, 0.4083333333333333, 0.4166666666666667, 0.4, 0.4166666666666667, 0.43333333333333335, 0.525, 0.425, 0.425, 0.425, 0.425, 0.4166666666666667, 0.4083333333333333, 0.4166666666666667, 0.4666666666666667, 0.4083333333333333]\n",
      "Accuracy for HS69-freq400 on theta band is Done! acc_list=[0.38333333333333336, 0.43333333333333335, 0.4166666666666667, 0.425, 0.45, 0.4583333333333333, 0.43333333333333335, 0.4166666666666667, 0.4166666666666667, 0.425, 0.425, 0.425, 0.4166666666666667, 0.4166666666666667, 0.43333333333333335, 0.4166666666666667, 0.4083333333333333, 0.4083333333333333, 0.425, 0.425, 0.4, 0.44166666666666665, 0.4666666666666667, 0.525, 0.49166666666666664, 0.45, 0.43333333333333335, 0.43333333333333335, 0.425, 0.425, 0.425, 0.4166666666666667, 0.425, 0.4, 0.4083333333333333, 0.425, 0.39166666666666666, 0.4666666666666667, 0.5833333333333334, 0.5833333333333334, 0.6083333333333333, 0.5666666666666667, 0.5833333333333334, 0.43333333333333335, 0.4166666666666667, 0.4166666666666667, 0.43333333333333335, 0.43333333333333335, 0.425, 0.4083333333333333, 0.4083333333333333, 0.425, 0.425, 0.5416666666666666, 0.5666666666666667, 0.575, 0.625, 0.6, 0.55, 0.5333333333333333, 0.49166666666666664, 0.4166666666666667, 0.4166666666666667, 0.425, 0.425, 0.425, 0.4166666666666667, 0.4166666666666667, 0.4166666666666667, 0.5166666666666667, 0.5666666666666667, 0.55, 0.5916666666666667, 0.6, 0.5416666666666666, 0.5583333333333333, 0.575, 0.5833333333333334, 0.5083333333333333, 0.425, 0.425, 0.425, 0.425, 0.4166666666666667, 0.425, 0.425, 0.425, 0.5833333333333334, 0.55, 0.55, 0.5666666666666667, 0.5333333333333333, 0.5416666666666666, 0.5416666666666666, 0.5083333333333333, 0.44166666666666665, 0.425, 0.4166666666666667, 0.4166666666666667, 0.4166666666666667, 0.425, 0.425, 0.425, 0.425, 0.425, 0.4166666666666667, 0.4, 0.43333333333333335, 0.45, 0.44166666666666665, 0.44166666666666665, 0.48333333333333334, 0.48333333333333334, 0.4666666666666667, 0.4666666666666667, 0.4166666666666667, 0.4166666666666667, 0.425, 0.425, 0.425, 0.425, 0.425, 0.425, 0.425, 0.425, 0.45, 0.45, 0.44166666666666665, 0.4166666666666667, 0.43333333333333335, 0.43333333333333335, 0.43333333333333335, 0.43333333333333335, 0.43333333333333335, 0.4666666666666667, 0.55, 0.5583333333333333, 0.5833333333333334, 0.5333333333333333, 0.525, 0.5333333333333333, 0.5333333333333333, 0.49166666666666664, 0.5, 0.4666666666666667, 0.45, 0.44166666666666665, 0.425, 0.425, 0.425, 0.4166666666666667, 0.55, 0.5416666666666666, 0.5583333333333333, 0.6083333333333333, 0.5833333333333334, 0.575, 0.55, 0.525, 0.55, 0.5, 0.43333333333333335, 0.43333333333333335, 0.45, 0.49166666666666664, 0.43333333333333335, 0.48333333333333334, 0.5416666666666666, 0.6, 0.4666666666666667, 0.45, 0.43333333333333335, 0.425, 0.425, 0.44166666666666665, 0.44166666666666665, 0.44166666666666665, 0.44166666666666665, 0.43333333333333335, 0.43333333333333335, 0.43333333333333335, 0.4166666666666667, 0.425, 0.43333333333333335, 0.425, 0.43333333333333335, 0.425, 0.425, 0.425, 0.425, 0.425, 0.425, 0.43333333333333335, 0.43333333333333335, 0.4583333333333333, 0.45, 0.4583333333333333, 0.4583333333333333, 0.44166666666666665, 0.4, 0.425, 0.44166666666666665, 0.43333333333333335, 0.43333333333333335, 0.425, 0.43333333333333335, 0.425, 0.425, 0.4166666666666667, 0.45, 0.44166666666666665, 0.4666666666666667, 0.49166666666666664, 0.4666666666666667, 0.4583333333333333, 0.43333333333333335, 0.44166666666666665, 0.48333333333333334, 0.5166666666666667, 0.525, 0.5333333333333333, 0.5333333333333333, 0.5166666666666667, 0.4583333333333333, 0.44166666666666665, 0.44166666666666665, 0.43333333333333335, 0.475, 0.4666666666666667, 0.4666666666666667, 0.475, 0.44166666666666665, 0.425, 0.4666666666666667, 0.48333333333333334, 0.4583333333333333, 0.5083333333333333, 0.49166666666666664, 0.48333333333333334, 0.45, 0.425, 0.4, 0.43333333333333335, 0.43333333333333335, 0.4583333333333333, 0.44166666666666665, 0.425, 0.4166666666666667, 0.4166666666666667, 0.425, 0.4083333333333333, 0.425, 0.43333333333333335, 0.43333333333333335, 0.4166666666666667, 0.44166666666666665]\n",
      "Accuracy for HS69-freq400 on alpha band is Done! acc_list=[0.4583333333333333, 0.4583333333333333, 0.44166666666666665, 0.43333333333333335, 0.43333333333333335, 0.4583333333333333, 0.43333333333333335, 0.4083333333333333, 0.4166666666666667, 0.44166666666666665, 0.44166666666666665, 0.425, 0.425, 0.39166666666666666, 0.4, 0.4166666666666667, 0.43333333333333335, 0.43333333333333335, 0.44166666666666665, 0.475, 0.4583333333333333, 0.4583333333333333, 0.4666666666666667, 0.4583333333333333, 0.45, 0.425, 0.43333333333333335, 0.44166666666666665, 0.45, 0.44166666666666665, 0.45, 0.44166666666666665, 0.45, 0.4666666666666667, 0.475, 0.5, 0.4583333333333333, 0.5, 0.48333333333333334, 0.49166666666666664, 0.4583333333333333, 0.475, 0.5083333333333333, 0.475, 0.4583333333333333, 0.425, 0.425, 0.45, 0.4583333333333333, 0.475, 0.5, 0.48333333333333334, 0.4666666666666667, 0.49166666666666664, 0.4166666666666667, 0.5416666666666666, 0.5416666666666666, 0.5333333333333333, 0.5166666666666667, 0.475, 0.43333333333333335, 0.4166666666666667, 0.4083333333333333, 0.4083333333333333, 0.4166666666666667, 0.44166666666666665, 0.5, 0.48333333333333334, 0.475, 0.425, 0.4583333333333333, 0.5666666666666667, 0.5916666666666667, 0.55, 0.5583333333333333, 0.5583333333333333, 0.55, 0.5333333333333333, 0.5666666666666667, 0.5666666666666667, 0.425, 0.4, 0.4166666666666667, 0.5, 0.49166666666666664, 0.5, 0.5083333333333333, 0.5, 0.4666666666666667, 0.43333333333333335, 0.425, 0.425, 0.425, 0.425, 0.425, 0.425, 0.4, 0.43333333333333335, 0.48333333333333334, 0.4666666666666667, 0.49166666666666664, 0.4666666666666667, 0.45, 0.475, 0.475, 0.4666666666666667, 0.4666666666666667, 0.45, 0.4583333333333333, 0.43333333333333335, 0.44166666666666665, 0.425, 0.4166666666666667, 0.43333333333333335, 0.475, 0.48333333333333334, 0.475, 0.5, 0.45, 0.45, 0.49166666666666664, 0.49166666666666664, 0.4666666666666667, 0.4666666666666667, 0.4583333333333333, 0.425, 0.425, 0.425, 0.43333333333333335, 0.43333333333333335, 0.43333333333333335, 0.425, 0.4583333333333333, 0.5666666666666667, 0.5916666666666667, 0.6166666666666667, 0.6083333333333333, 0.6416666666666667, 0.6416666666666667, 0.575, 0.5916666666666667, 0.6, 0.6083333333333333, 0.55, 0.43333333333333335, 0.4166666666666667, 0.4166666666666667, 0.4, 0.425, 0.43333333333333335, 0.6166666666666667, 0.6083333333333333, 0.6166666666666667, 0.6333333333333333, 0.625, 0.5833333333333334, 0.5916666666666667, 0.6083333333333333, 0.5916666666666667, 0.5833333333333334, 0.4666666666666667, 0.39166666666666666, 0.4, 0.44166666666666665, 0.44166666666666665, 0.44166666666666665, 0.49166666666666664, 0.525, 0.55, 0.475, 0.425, 0.425, 0.4583333333333333, 0.475, 0.5, 0.43333333333333335, 0.4666666666666667, 0.4666666666666667, 0.4666666666666667, 0.45, 0.475, 0.425, 0.4083333333333333, 0.4, 0.4166666666666667, 0.425, 0.425, 0.425, 0.425, 0.43333333333333335, 0.43333333333333335, 0.4083333333333333, 0.38333333333333336, 0.4166666666666667, 0.4166666666666667, 0.4166666666666667, 0.4083333333333333, 0.4083333333333333, 0.4166666666666667, 0.425, 0.4083333333333333, 0.4166666666666667, 0.44166666666666665, 0.45, 0.48333333333333334, 0.4666666666666667, 0.4166666666666667, 0.375, 0.4083333333333333, 0.4, 0.43333333333333335, 0.4166666666666667, 0.4, 0.43333333333333335, 0.4166666666666667, 0.425, 0.44166666666666665, 0.375, 0.39166666666666666, 0.45, 0.4583333333333333, 0.45, 0.4166666666666667, 0.44166666666666665, 0.375, 0.44166666666666665, 0.38333333333333336, 0.43333333333333335, 0.4166666666666667, 0.43333333333333335, 0.43333333333333335, 0.4083333333333333, 0.4083333333333333, 0.4083333333333333, 0.4, 0.425, 0.48333333333333334, 0.475, 0.45, 0.4666666666666667, 0.425, 0.425, 0.45, 0.4583333333333333, 0.4583333333333333, 0.4583333333333333, 0.4583333333333333, 0.43333333333333335, 0.4, 0.39166666666666666, 0.45, 0.43333333333333335, 0.43333333333333335, 0.4166666666666667, 0.4166666666666667, 0.4166666666666667]\n",
      "Accuracy for HS69-freq400 on beta band is Done! acc_list=[0.44166666666666665, 0.44166666666666665, 0.5, 0.5416666666666666, 0.5333333333333333, 0.55, 0.43333333333333335, 0.4666666666666667, 0.48333333333333334, 0.49166666666666664, 0.475, 0.49166666666666664, 0.4666666666666667, 0.475, 0.475, 0.49166666666666664, 0.5166666666666667, 0.475, 0.48333333333333334, 0.525, 0.5416666666666666, 0.5916666666666667, 0.525, 0.5, 0.49166666666666664, 0.475, 0.5, 0.525, 0.5333333333333333, 0.5083333333333333, 0.475, 0.44166666666666665, 0.43333333333333335, 0.4666666666666667, 0.49166666666666664, 0.5416666666666666, 0.55, 0.5916666666666667, 0.5833333333333334, 0.5666666666666667, 0.5333333333333333, 0.5083333333333333, 0.5666666666666667, 0.5583333333333333, 0.5416666666666666, 0.5083333333333333, 0.5, 0.48333333333333334, 0.4166666666666667, 0.4083333333333333, 0.5, 0.5166666666666667, 0.5583333333333333, 0.5333333333333333, 0.5333333333333333, 0.5666666666666667, 0.5416666666666666, 0.5083333333333333, 0.5166666666666667, 0.5083333333333333, 0.55, 0.5583333333333333, 0.5333333333333333, 0.48333333333333334, 0.525, 0.48333333333333334, 0.5, 0.48333333333333334, 0.49166666666666664, 0.48333333333333334, 0.575, 0.6, 0.55, 0.5583333333333333, 0.5083333333333333, 0.525, 0.4666666666666667, 0.48333333333333334, 0.49166666666666664, 0.4666666666666667, 0.44166666666666665, 0.4166666666666667, 0.4666666666666667, 0.5166666666666667, 0.48333333333333334, 0.4583333333333333, 0.4583333333333333, 0.44166666666666665, 0.475, 0.49166666666666664, 0.525, 0.48333333333333334, 0.44166666666666665, 0.425, 0.4083333333333333, 0.425, 0.425, 0.5333333333333333, 0.5916666666666667, 0.5166666666666667, 0.5416666666666666, 0.5083333333333333, 0.5333333333333333, 0.5, 0.5083333333333333, 0.5416666666666666, 0.475, 0.425, 0.425, 0.425, 0.425, 0.425, 0.425, 0.43333333333333335, 0.5416666666666666, 0.5666666666666667, 0.5416666666666666, 0.5666666666666667, 0.525, 0.5083333333333333, 0.475, 0.5166666666666667, 0.5583333333333333, 0.575, 0.48333333333333334, 0.48333333333333334, 0.4583333333333333, 0.49166666666666664, 0.5, 0.5083333333333333, 0.55, 0.5333333333333333, 0.49166666666666664, 0.5333333333333333, 0.6083333333333333, 0.6083333333333333, 0.6083333333333333, 0.6083333333333333, 0.6083333333333333, 0.6083333333333333, 0.6083333333333333, 0.625, 0.6416666666666667, 0.6333333333333333, 0.55, 0.39166666666666666, 0.43333333333333335, 0.4583333333333333, 0.5416666666666666, 0.5, 0.5666666666666667, 0.5916666666666667, 0.5666666666666667, 0.5916666666666667, 0.575, 0.5666666666666667, 0.5583333333333333, 0.6, 0.6333333333333333, 0.625, 0.525, 0.43333333333333335, 0.4083333333333333, 0.425, 0.425, 0.425, 0.425, 0.425, 0.425, 0.425, 0.45, 0.5166666666666667, 0.5333333333333333, 0.5833333333333334, 0.6333333333333333, 0.5416666666666666, 0.525, 0.4166666666666667, 0.425, 0.425, 0.425, 0.48333333333333334, 0.5416666666666666, 0.525, 0.6, 0.6, 0.5333333333333333, 0.5666666666666667, 0.5916666666666667, 0.5916666666666667, 0.6166666666666667, 0.6083333333333333, 0.5333333333333333, 0.5416666666666666, 0.5083333333333333, 0.475, 0.5, 0.5, 0.575, 0.575, 0.5833333333333334, 0.6, 0.6, 0.5833333333333334, 0.5916666666666667, 0.6333333333333333, 0.575, 0.5666666666666667, 0.5583333333333333, 0.5, 0.5333333333333333, 0.55, 0.5583333333333333, 0.6, 0.5833333333333334, 0.6083333333333333, 0.5916666666666667, 0.6416666666666667, 0.6333333333333333, 0.6, 0.6, 0.6083333333333333, 0.6166666666666667, 0.5416666666666666, 0.5, 0.4583333333333333, 0.44166666666666665, 0.4666666666666667, 0.5166666666666667, 0.5666666666666667, 0.6, 0.6083333333333333, 0.6, 0.5583333333333333, 0.5166666666666667, 0.525, 0.5333333333333333, 0.5083333333333333, 0.5416666666666666, 0.5333333333333333, 0.5916666666666667, 0.625, 0.5833333333333334, 0.5, 0.43333333333333335, 0.475, 0.5833333333333334, 0.575, 0.5083333333333333, 0.475, 0.475, 0.48333333333333334, 0.5333333333333333, 0.48333333333333334, 0.4666666666666667, 0.425]\n",
      "Accuracy for HS69-freq400 on gamma band is Done! acc_list=[0.45, 0.44166666666666665, 0.4666666666666667, 0.43333333333333335, 0.475, 0.36666666666666664, 0.425, 0.43333333333333335, 0.43333333333333335, 0.425, 0.425, 0.425, 0.425, 0.425, 0.4166666666666667, 0.4083333333333333, 0.4083333333333333, 0.425, 0.4, 0.4583333333333333, 0.4083333333333333, 0.4, 0.4083333333333333, 0.425, 0.45, 0.425, 0.44166666666666665, 0.44166666666666665, 0.44166666666666665, 0.4083333333333333, 0.425, 0.425, 0.425, 0.43333333333333335, 0.425, 0.45, 0.44166666666666665, 0.425, 0.4083333333333333, 0.39166666666666666, 0.4, 0.4666666666666667, 0.4666666666666667, 0.475, 0.45, 0.4666666666666667, 0.425, 0.425, 0.425, 0.43333333333333335, 0.425, 0.48333333333333334, 0.45, 0.5, 0.475, 0.48333333333333334, 0.4583333333333333, 0.4666666666666667, 0.44166666666666665, 0.44166666666666665, 0.44166666666666665, 0.4583333333333333, 0.44166666666666665, 0.4583333333333333, 0.45, 0.44166666666666665, 0.4583333333333333, 0.45, 0.5166666666666667, 0.5, 0.48333333333333334, 0.5416666666666666, 0.5333333333333333, 0.5833333333333334, 0.6083333333333333, 0.6166666666666667, 0.5833333333333334, 0.5583333333333333, 0.55, 0.48333333333333334, 0.4666666666666667, 0.5333333333333333, 0.5, 0.45, 0.4166666666666667, 0.4083333333333333, 0.425, 0.48333333333333334, 0.49166666666666664, 0.5083333333333333, 0.49166666666666664, 0.5333333333333333, 0.5416666666666666, 0.5166666666666667, 0.55, 0.525, 0.55, 0.49166666666666664, 0.4583333333333333, 0.5, 0.5083333333333333, 0.425, 0.4166666666666667, 0.44166666666666665, 0.475, 0.48333333333333334, 0.44166666666666665, 0.425, 0.43333333333333335, 0.425, 0.425, 0.425, 0.425, 0.4083333333333333, 0.375, 0.39166666666666666, 0.4083333333333333, 0.4, 0.43333333333333335, 0.425, 0.43333333333333335, 0.43333333333333335, 0.425, 0.425, 0.425, 0.425, 0.43333333333333335, 0.425, 0.43333333333333335, 0.43333333333333335, 0.43333333333333335, 0.4583333333333333, 0.43333333333333335, 0.45, 0.49166666666666664, 0.49166666666666664, 0.575, 0.5583333333333333, 0.5583333333333333, 0.5583333333333333, 0.5583333333333333, 0.5416666666666666, 0.5166666666666667, 0.5166666666666667, 0.525, 0.5166666666666667, 0.5166666666666667, 0.5416666666666666, 0.5333333333333333, 0.4583333333333333, 0.48333333333333334, 0.4666666666666667, 0.4583333333333333, 0.49166666666666664, 0.55, 0.4666666666666667, 0.4583333333333333, 0.4083333333333333, 0.375, 0.4083333333333333, 0.4166666666666667, 0.425, 0.425, 0.425, 0.425, 0.425, 0.425, 0.4166666666666667, 0.375, 0.4166666666666667, 0.4083333333333333, 0.4166666666666667, 0.425, 0.4166666666666667, 0.4, 0.49166666666666664, 0.5166666666666667, 0.44166666666666665, 0.43333333333333335, 0.425, 0.43333333333333335, 0.45, 0.5, 0.5, 0.5083333333333333, 0.49166666666666664, 0.5083333333333333, 0.5, 0.5166666666666667, 0.5166666666666667, 0.43333333333333335, 0.49166666666666664, 0.5, 0.5083333333333333, 0.5333333333333333, 0.5166666666666667, 0.475, 0.475, 0.44166666666666665, 0.48333333333333334, 0.48333333333333334, 0.5166666666666667, 0.4666666666666667, 0.45, 0.5416666666666666, 0.5333333333333333, 0.5333333333333333, 0.55, 0.49166666666666664, 0.425, 0.4583333333333333, 0.475, 0.45, 0.45, 0.45, 0.49166666666666664, 0.5666666666666667, 0.5416666666666666, 0.49166666666666664, 0.43333333333333335, 0.44166666666666665, 0.38333333333333336, 0.4, 0.4166666666666667, 0.4166666666666667, 0.425, 0.4166666666666667, 0.45, 0.5, 0.5, 0.48333333333333334, 0.5, 0.475, 0.5083333333333333, 0.475, 0.4583333333333333, 0.4583333333333333, 0.45, 0.43333333333333335, 0.44166666666666665, 0.5, 0.45, 0.49166666666666664, 0.5083333333333333, 0.5083333333333333, 0.5333333333333333, 0.5166666666666667, 0.55, 0.5333333333333333, 0.5416666666666666, 0.5166666666666667, 0.5083333333333333, 0.4166666666666667, 0.425, 0.425, 0.43333333333333335]\n",
      "Accuracy for HS69-freq400 on high gamma band is Done! acc_list=[0.45, 0.5333333333333333, 0.49166666666666664, 0.5, 0.475, 0.475, 0.39166666666666666, 0.45, 0.5, 0.49166666666666664, 0.4666666666666667, 0.4583333333333333, 0.44166666666666665, 0.425, 0.4166666666666667, 0.425, 0.425, 0.425, 0.425, 0.45, 0.4583333333333333, 0.475, 0.48333333333333334, 0.4583333333333333, 0.4583333333333333, 0.425, 0.4166666666666667, 0.43333333333333335, 0.43333333333333335, 0.4083333333333333, 0.4166666666666667, 0.4, 0.43333333333333335, 0.4666666666666667, 0.475, 0.44166666666666665, 0.43333333333333335, 0.425, 0.5, 0.4666666666666667, 0.44166666666666665, 0.43333333333333335, 0.425, 0.425, 0.425, 0.425, 0.425, 0.425, 0.49166666666666664, 0.44166666666666665, 0.4166666666666667, 0.4166666666666667, 0.425, 0.4083333333333333, 0.45, 0.475, 0.45, 0.44166666666666665, 0.44166666666666665, 0.4583333333333333, 0.4583333333333333, 0.4583333333333333, 0.425, 0.43333333333333335, 0.425, 0.43333333333333335, 0.4666666666666667, 0.4083333333333333, 0.5, 0.5416666666666666, 0.5333333333333333, 0.5666666666666667, 0.5916666666666667, 0.575, 0.6, 0.5583333333333333, 0.5416666666666666, 0.5333333333333333, 0.525, 0.5666666666666667, 0.5333333333333333, 0.4083333333333333, 0.45, 0.4583333333333333, 0.44166666666666665, 0.45, 0.48333333333333334, 0.49166666666666664, 0.5166666666666667, 0.5333333333333333, 0.5333333333333333, 0.5416666666666666, 0.5166666666666667, 0.5166666666666667, 0.5083333333333333, 0.5083333333333333, 0.5, 0.425, 0.4, 0.45, 0.4583333333333333, 0.525, 0.5333333333333333, 0.5333333333333333, 0.5, 0.4583333333333333, 0.4583333333333333, 0.4666666666666667, 0.4583333333333333, 0.4583333333333333, 0.44166666666666665, 0.4666666666666667, 0.39166666666666666, 0.39166666666666666, 0.375, 0.4166666666666667, 0.425, 0.44166666666666665, 0.44166666666666665, 0.4583333333333333, 0.475, 0.45, 0.4666666666666667, 0.43333333333333335, 0.45, 0.425, 0.425, 0.425, 0.4166666666666667, 0.4166666666666667, 0.425, 0.425, 0.425, 0.425, 0.425, 0.43333333333333335, 0.4583333333333333, 0.44166666666666665, 0.45, 0.4666666666666667, 0.49166666666666664, 0.5166666666666667, 0.5083333333333333, 0.525, 0.525, 0.525, 0.525, 0.5583333333333333, 0.55, 0.5, 0.45, 0.425, 0.425, 0.425, 0.425, 0.43333333333333335, 0.43333333333333335, 0.4166666666666667, 0.43333333333333335, 0.4083333333333333, 0.39166666666666666, 0.4, 0.425, 0.425, 0.425, 0.425, 0.425, 0.4083333333333333, 0.4083333333333333, 0.4083333333333333, 0.4083333333333333, 0.45, 0.4583333333333333, 0.44166666666666665, 0.425, 0.38333333333333336, 0.425, 0.43333333333333335, 0.43333333333333335, 0.45, 0.45, 0.4583333333333333, 0.4583333333333333, 0.44166666666666665, 0.5166666666666667, 0.5, 0.4583333333333333, 0.4583333333333333, 0.4666666666666667, 0.44166666666666665, 0.4166666666666667, 0.4, 0.4166666666666667, 0.4166666666666667, 0.4083333333333333, 0.4166666666666667, 0.4, 0.4083333333333333, 0.43333333333333335, 0.425, 0.5083333333333333, 0.45, 0.475, 0.44166666666666665, 0.4583333333333333, 0.48333333333333334, 0.4583333333333333, 0.45, 0.43333333333333335, 0.43333333333333335, 0.425, 0.45, 0.44166666666666665, 0.4666666666666667, 0.425, 0.43333333333333335, 0.425, 0.425, 0.45, 0.45, 0.45, 0.425, 0.425, 0.43333333333333335, 0.45, 0.4583333333333333, 0.43333333333333335, 0.43333333333333335, 0.4166666666666667, 0.425, 0.425, 0.425, 0.425, 0.425, 0.425, 0.43333333333333335, 0.475, 0.43333333333333335, 0.525, 0.5416666666666666, 0.575, 0.525, 0.5583333333333333, 0.525, 0.5, 0.5416666666666666, 0.5333333333333333, 0.5083333333333333, 0.5583333333333333, 0.5166666666666667, 0.45, 0.4583333333333333, 0.45, 0.44166666666666665, 0.475, 0.4583333333333333]\n",
      "Accuracy for HS69-freq400 on else2 band is Done! acc_list=[0.44166666666666665, 0.48333333333333334, 0.45, 0.45, 0.4583333333333333, 0.475, 0.49166666666666664, 0.48333333333333334, 0.425, 0.43333333333333335, 0.4166666666666667, 0.425, 0.425, 0.425, 0.425, 0.425, 0.425, 0.425, 0.425, 0.425, 0.44166666666666665, 0.45, 0.49166666666666664, 0.49166666666666664, 0.5, 0.49166666666666664, 0.48333333333333334, 0.5, 0.475, 0.4583333333333333, 0.48333333333333334, 0.4666666666666667, 0.5166666666666667, 0.5083333333333333, 0.49166666666666664, 0.45, 0.44166666666666665, 0.4583333333333333, 0.45, 0.425, 0.43333333333333335, 0.43333333333333335, 0.43333333333333335, 0.425, 0.425, 0.425, 0.4166666666666667, 0.425, 0.4166666666666667, 0.425, 0.425, 0.425, 0.4166666666666667, 0.4166666666666667, 0.45, 0.43333333333333335, 0.43333333333333335, 0.4583333333333333, 0.43333333333333335, 0.43333333333333335, 0.4666666666666667, 0.4583333333333333, 0.44166666666666665, 0.425, 0.43333333333333335, 0.43333333333333335, 0.4083333333333333, 0.45, 0.5083333333333333, 0.475, 0.48333333333333334, 0.49166666666666664, 0.5166666666666667, 0.425, 0.43333333333333335, 0.43333333333333335, 0.43333333333333335, 0.43333333333333335, 0.425, 0.425, 0.44166666666666665, 0.43333333333333335, 0.43333333333333335, 0.44166666666666665, 0.44166666666666665, 0.45, 0.43333333333333335, 0.425, 0.43333333333333335, 0.43333333333333335, 0.43333333333333335, 0.43333333333333335, 0.425, 0.425, 0.43333333333333335, 0.44166666666666665, 0.425, 0.425, 0.425, 0.425, 0.425, 0.4166666666666667, 0.425, 0.425, 0.425, 0.425, 0.425, 0.44166666666666665, 0.4583333333333333, 0.4, 0.44166666666666665, 0.4583333333333333, 0.475, 0.425, 0.4166666666666667, 0.4166666666666667, 0.425, 0.425, 0.425, 0.425, 0.425, 0.425, 0.425, 0.4166666666666667, 0.43333333333333335, 0.44166666666666665, 0.44166666666666665, 0.425, 0.425, 0.45, 0.425, 0.425, 0.425, 0.43333333333333335, 0.425, 0.425, 0.4166666666666667, 0.425, 0.425, 0.44166666666666665, 0.4583333333333333, 0.4666666666666667, 0.45, 0.475, 0.43333333333333335, 0.425, 0.4666666666666667, 0.5083333333333333, 0.5166666666666667, 0.55, 0.49166666666666664, 0.5, 0.4166666666666667, 0.425, 0.425, 0.425, 0.425, 0.425, 0.43333333333333335, 0.43333333333333335, 0.4166666666666667, 0.4166666666666667, 0.425, 0.4, 0.4083333333333333, 0.38333333333333336, 0.375, 0.39166666666666666, 0.4083333333333333, 0.44166666666666665, 0.44166666666666665, 0.4166666666666667, 0.4083333333333333, 0.4, 0.43333333333333335, 0.45, 0.425, 0.425, 0.425, 0.425, 0.425, 0.425, 0.45, 0.43333333333333335, 0.45, 0.475, 0.4583333333333333, 0.49166666666666664, 0.43333333333333335, 0.425, 0.4166666666666667, 0.4166666666666667, 0.425, 0.44166666666666665, 0.43333333333333335, 0.48333333333333334, 0.4666666666666667, 0.49166666666666664, 0.45, 0.4083333333333333, 0.425, 0.425, 0.44166666666666665, 0.44166666666666665, 0.44166666666666665, 0.4583333333333333, 0.44166666666666665, 0.425, 0.425, 0.425, 0.4166666666666667, 0.4083333333333333, 0.425, 0.425, 0.43333333333333335, 0.4083333333333333, 0.44166666666666665, 0.44166666666666665, 0.4666666666666667, 0.45, 0.45, 0.4583333333333333, 0.45, 0.4583333333333333, 0.44166666666666665, 0.45, 0.43333333333333335, 0.4083333333333333, 0.4166666666666667, 0.4083333333333333, 0.4166666666666667, 0.425, 0.44166666666666665, 0.43333333333333335, 0.43333333333333335, 0.43333333333333335, 0.43333333333333335, 0.43333333333333335, 0.425, 0.425, 0.425, 0.425, 0.425, 0.425, 0.425, 0.425, 0.43333333333333335, 0.44166666666666665, 0.4666666666666667, 0.4666666666666667, 0.44166666666666665, 0.4583333333333333, 0.38333333333333336, 0.4166666666666667, 0.43333333333333335, 0.43333333333333335]\n"
     ]
    }
   ],
   "source": [
    "z_band_cue_data_all, z_band_read_data_all = get_band_ecogdata(HS, freq)\n",
    "elec_list = [i for i in range(0, 256)]\n",
    "HS_list = [69]\n",
    "freq_list = [400]\n",
    "save_acc_dir = f'/public/DATA/overt_reading/bands_acc'\n",
    "os.makedirs(save_acc_dir, exist_ok=True)\n",
    "\n",
    "for HS in HS_list:\n",
    "    for freq in freq_list:\n",
    "        save_acc_path = os.path.join(save_acc_dir, f'{HS}', f'{freq}')\n",
    "        os.makedirs(save_acc_path, exist_ok=True)\n",
    "        bands_acc = cal_bc_sig_HS_band(HS, freq, bands_list, elec_list, z_band_cue_data_all, z_band_read_data_all)\n",
    "        np.save(os.path.join(save_acc_path, 'bands_acc.npy'), bands_acc)\n"
   ]
  },
  {
   "cell_type": "code",
   "execution_count": 19,
   "metadata": {},
   "outputs": [
    {
     "name": "stdout",
     "output_type": "stream",
     "text": [
      "delta accuracy mean: 0.45693359375\n",
      "theta accuracy mean: 0.46123046874999996\n",
      "alpha accuracy mean: 0.4612630208333333\n",
      "beta accuracy mean: 0.5198567708333333\n",
      "gamma accuracy mean: 0.4641927083333333\n",
      "high gamma accuracy mean: 0.45748697916666664\n",
      "else2 accuracy mean: 0.4388997395833333\n"
     ]
    }
   ],
   "source": [
    "save_acc_path = os.path.join(f'/public/DATA/overt_reading/bands_acc', f'{HS}', f'{freq}')\n",
    "bands_acc = np.load('/public/DATA/overt_reading/bands_acc/69/400/bands_acc.npy', allow_pickle=True).item()\n",
    "for band in bands_list:\n",
    "    acc_mean = np.mean(bands_acc[band])\n",
    "    print(f'{band} accuracy mean: {acc_mean}')"
   ]
  },
  {
   "cell_type": "markdown",
   "metadata": {},
   "source": [
    "## 2. 将不同band的accuracy可视化到脑表面"
   ]
  },
  {
   "cell_type": "code",
   "execution_count": 2,
   "metadata": {},
   "outputs": [],
   "source": [
    "def add_right_cax(ax, pad, width):\n",
    "    '''\n",
    "    在一个ax右边追加与之等高的cax.\n",
    "    pad是cax与ax的间距.\n",
    "    width是cax的宽度.\n",
    "    '''\n",
    "    axpos = ax.get_position()\n",
    "    caxpos = mpl.transforms.Bbox.from_extents(\n",
    "        axpos.x1 + pad,\n",
    "        axpos.y0,\n",
    "        axpos.x1 + pad + width,\n",
    "        axpos.y1\n",
    "    )\n",
    "    cax = ax.figure.add_axes(caxpos)\n",
    "\n",
    "def plot_bands_acc_elecs_brain(HS, freq, band):\n",
    "    path = '/public/DATA/overt_reading/'\n",
    "    # 所有电极在不同频段的acc\n",
    "    save_acc_path = os.path.join(f'/public/DATA/overt_reading/bands_acc', f'{HS}', f'{freq}')\n",
    "    bands_acc = np.load(os.path.join(save_acc_path, 'bands_acc.npy'), allow_pickle=True).item()\n",
    "    band_acc = bands_acc[band]\n",
    "    # 数据加载\n",
    "    subject_str = f\"HS{HS}\"\n",
    "    xy = scio.loadmat(path + f\"/elecs/All_elecs/{subject_str}_warped_elec_pos2D.mat\")['elecmatrix']\n",
    "    img = mpimg.imread(path + \"/elecs/Brain2D/MNI152_brain2D.png\")\n",
    "\n",
    "    fig, ax = plt.subplots(figsize=(15,15))\n",
    "    ax.imshow(img)\n",
    "    \n",
    "    x_coords, y_coords = [],[]\n",
    "    values = []\n",
    "    ax_ind = 0 \n",
    "        \n",
    "    for i, acc in enumerate(band_acc):\n",
    "       \n",
    "        # HS,elec = HS_elec_list[i].split(\"_\")\n",
    "        elec = i\n",
    "        # xy = xy_all[f\"HS{HS}\"]\n",
    "        x_coords.append(xy[elec][0])\n",
    "        y_coords.append(xy[elec][1])\n",
    "        values.append(acc)\n",
    "\n",
    "        if acc > 0.5:    \n",
    "            plt.text(xy[elec][0],xy[elec][1],f\"{HS}_{elec}\")\n",
    "    \n",
    "    im = plt.scatter(x_coords, y_coords, c=values, cmap='Reds', alpha = 0.7)\n",
    "\n",
    "    plt.grid('off') \n",
    "    plt.axis('off')\n",
    "\n",
    "    plt.xticks([])\n",
    "    plt.yticks([])\n",
    "    plt.title(f\"Electrode accuracy for HS{HS}_{band}\")\n",
    "    cax = add_right_cax(ax, pad=0.02, width=0.02)\n",
    "    cbar = fig.colorbar(im, cax=cax)\n",
    "    plt.show()\n",
    "\n",
    "    # # 额外设置\n",
    "    # ax.grid('off')\n",
    "    # ax.axis('off')\n",
    "    # ax.set_xticks([])\n",
    "    # ax.set_yticks([])\n",
    "    # ax.set_title(f\"Electrodes Distribution with Frequency Band Accuracy for HS{HS}\", size=20)\n",
    "\n",
    "    # plt.tight_layout(rect=[0, 0, 1, 0.9])\n",
    "    # plt.savefig(f\"/root/pp/covert-reading/Ecog_pretrain/figures/fig_acc_distri_HS{HS}_freq{freq}.pdf\", dpi=1200)\n",
    "    # plt.show()"
   ]
  },
  {
   "cell_type": "code",
   "execution_count": null,
   "metadata": {},
   "outputs": [],
   "source": [
    "for band in bands_list:\n",
    "    plot_bands_acc_elecs_brain(69, 400, band)"
   ]
  }
 ],
 "metadata": {
  "kernelspec": {
   "display_name": "ecog",
   "language": "python",
   "name": "python3"
  },
  "language_info": {
   "codemirror_mode": {
    "name": "ipython",
    "version": 3
   },
   "file_extension": ".py",
   "mimetype": "text/x-python",
   "name": "python",
   "nbconvert_exporter": "python",
   "pygments_lexer": "ipython3",
   "version": "3.12.3"
  }
 },
 "nbformat": 4,
 "nbformat_minor": 2
}
