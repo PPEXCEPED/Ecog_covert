{
 "cells": [
  {
   "cell_type": "code",
   "execution_count": 1,
   "id": "initial_id",
   "metadata": {
    "collapsed": true,
    "ExecuteTime": {
     "end_time": "2023-10-20T15:58:45.113182200Z",
     "start_time": "2023-10-20T15:58:45.004056500Z"
    }
   },
   "outputs": [],
   "source": [
    "from HS_reading import *"
   ]
  },
  {
   "cell_type": "code",
   "execution_count": null,
   "outputs": [],
   "source": [
    "clean_data_path = \"\"\n",
    "for HS in [44,45,47,48,50,54,71]:\n",
    "    path = clean_data_path+\"elecs/\"+str(HS)+\"response_elecs_dict.mat\"\n",
    "    elec_path = clean_data_path+\"elecs/\"+str(HS)+\"sig_elecs.npy\"\n",
    "    response_elecs_dict = scio.loadmat(path)\n",
    "    \n",
    "    sig_elecs = {}\n",
    "    for task_name in task_name_list:\n",
    "        sig_elecs[task_name] = []\n",
    "    if HS < 70:\n",
    "        task_name_list = [\"overt\",\"covert\"]\n",
    "        sound_list = [\"ba\",\"da\",\"ga\",\"bu\",\"du\",\"gu\"]\n",
    "\n",
    "    else:\n",
    "        task_name_list = [\"overt\",\"covert\",\"cue\"]\n",
    "        sound_list = [\"ba\",\"da\",\"ga\",\"pa\",\"ta\",\"ka\",\"sa\",\"sha\"]\n",
    "\n",
    "    print(sound_list)\n",
    "    for sound in sound_list:\n",
    "        for task_name in task_name_list:\n",
    "            sig_elecs[task_name].extend(response_elecs_dict[\"ECoG_\"+task_name+\"_\"+sound].reshape(-1))\n",
    "    print(sig_elecs)\n",
    "    np.save(elec_path,sig_elecs)\n",
    "    "
   ],
   "metadata": {
    "collapsed": false
   },
   "id": "3d769bd2294c701d"
  }
 ],
 "metadata": {
  "kernelspec": {
   "display_name": "Python 3",
   "language": "python",
   "name": "python3"
  },
  "language_info": {
   "codemirror_mode": {
    "name": "ipython",
    "version": 2
   },
   "file_extension": ".py",
   "mimetype": "text/x-python",
   "name": "python",
   "nbconvert_exporter": "python",
   "pygments_lexer": "ipython2",
   "version": "2.7.6"
  }
 },
 "nbformat": 4,
 "nbformat_minor": 5
}
